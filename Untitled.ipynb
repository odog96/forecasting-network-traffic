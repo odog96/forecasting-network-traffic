{
 "cells": [
  {
   "cell_type": "code",
   "execution_count": 1,
   "id": "027edcbf-d9c1-435d-8cdf-8ac6f2769f0f",
   "metadata": {
    "tags": []
   },
   "outputs": [],
   "source": [
    "import numpy as np\n",
    "import pandas as pd"
   ]
  },
  {
   "cell_type": "code",
   "execution_count": 2,
   "id": "0a3d5570-181e-40ad-95e6-d86e9fddaff7",
   "metadata": {
    "tags": []
   },
   "outputs": [],
   "source": [
    "df = pd.read_csv('data/netstats_hourly_4_3.csv')"
   ]
  },
  {
   "cell_type": "code",
   "execution_count": 3,
   "id": "04a5b095-c3cb-4c4c-bfb3-c8fa11c3cd9f",
   "metadata": {
    "tags": []
   },
   "outputs": [
    {
     "data": {
      "text/html": [
       "<div>\n",
       "<style scoped>\n",
       "    .dataframe tbody tr th:only-of-type {\n",
       "        vertical-align: middle;\n",
       "    }\n",
       "\n",
       "    .dataframe tbody tr th {\n",
       "        vertical-align: top;\n",
       "    }\n",
       "\n",
       "    .dataframe thead th {\n",
       "        text-align: right;\n",
       "    }\n",
       "</style>\n",
       "<table border=\"1\" class=\"dataframe\">\n",
       "  <thead>\n",
       "    <tr style=\"text-align: right;\">\n",
       "      <th></th>\n",
       "      <th>link</th>\n",
       "      <th>location</th>\n",
       "      <th>link_loc</th>\n",
       "      <th>time</th>\n",
       "      <th>rx_gbs</th>\n",
       "      <th>tx_gbs</th>\n",
       "    </tr>\n",
       "  </thead>\n",
       "  <tbody>\n",
       "    <tr>\n",
       "      <th>0</th>\n",
       "      <td>CenturyLink</td>\n",
       "      <td>US-DA3</td>\n",
       "      <td>CenturyLink_US-DA3</td>\n",
       "      <td>2024-03-11 13:00:00</td>\n",
       "      <td>6.964371</td>\n",
       "      <td>1.761280</td>\n",
       "    </tr>\n",
       "    <tr>\n",
       "      <th>1</th>\n",
       "      <td>CenturyLink</td>\n",
       "      <td>US-DA3</td>\n",
       "      <td>CenturyLink_US-DA3</td>\n",
       "      <td>2024-03-11 14:00:00</td>\n",
       "      <td>14.291413</td>\n",
       "      <td>3.713517</td>\n",
       "    </tr>\n",
       "    <tr>\n",
       "      <th>2</th>\n",
       "      <td>CenturyLink</td>\n",
       "      <td>US-DA3</td>\n",
       "      <td>CenturyLink_US-DA3</td>\n",
       "      <td>2024-03-11 15:00:00</td>\n",
       "      <td>14.768595</td>\n",
       "      <td>3.871223</td>\n",
       "    </tr>\n",
       "    <tr>\n",
       "      <th>3</th>\n",
       "      <td>CenturyLink</td>\n",
       "      <td>US-DA3</td>\n",
       "      <td>CenturyLink_US-DA3</td>\n",
       "      <td>2024-03-11 16:00:00</td>\n",
       "      <td>16.396909</td>\n",
       "      <td>3.924419</td>\n",
       "    </tr>\n",
       "    <tr>\n",
       "      <th>4</th>\n",
       "      <td>CenturyLink</td>\n",
       "      <td>US-DA3</td>\n",
       "      <td>CenturyLink_US-DA3</td>\n",
       "      <td>2024-03-11 17:00:00</td>\n",
       "      <td>17.442550</td>\n",
       "      <td>4.851005</td>\n",
       "    </tr>\n",
       "  </tbody>\n",
       "</table>\n",
       "</div>"
      ],
      "text/plain": [
       "          link location            link_loc                 time     rx_gbs  \\\n",
       "0  CenturyLink   US-DA3  CenturyLink_US-DA3  2024-03-11 13:00:00   6.964371   \n",
       "1  CenturyLink   US-DA3  CenturyLink_US-DA3  2024-03-11 14:00:00  14.291413   \n",
       "2  CenturyLink   US-DA3  CenturyLink_US-DA3  2024-03-11 15:00:00  14.768595   \n",
       "3  CenturyLink   US-DA3  CenturyLink_US-DA3  2024-03-11 16:00:00  16.396909   \n",
       "4  CenturyLink   US-DA3  CenturyLink_US-DA3  2024-03-11 17:00:00  17.442550   \n",
       "\n",
       "     tx_gbs  \n",
       "0  1.761280  \n",
       "1  3.713517  \n",
       "2  3.871223  \n",
       "3  3.924419  \n",
       "4  4.851005  "
      ]
     },
     "execution_count": 3,
     "metadata": {},
     "output_type": "execute_result"
    }
   ],
   "source": [
    "df.head()"
   ]
  },
  {
   "cell_type": "code",
   "execution_count": 4,
   "id": "4a9ef89c-1008-4d3a-9f7d-bc36e5f06671",
   "metadata": {
    "tags": []
   },
   "outputs": [
    {
     "data": {
      "text/plain": [
       "'2024-03-11 13:00:00'"
      ]
     },
     "execution_count": 4,
     "metadata": {},
     "output_type": "execute_result"
    }
   ],
   "source": [
    "df.time.min()"
   ]
  },
  {
   "cell_type": "code",
   "execution_count": 5,
   "id": "dcea596b-51ed-4a1f-8dec-6d775b396b72",
   "metadata": {
    "tags": []
   },
   "outputs": [
    {
     "data": {
      "text/plain": [
       "'2024-04-26 02:00:00'"
      ]
     },
     "execution_count": 5,
     "metadata": {},
     "output_type": "execute_result"
    }
   ],
   "source": [
    "df.time.max()"
   ]
  },
  {
   "cell_type": "code",
   "execution_count": null,
   "id": "eb9dfa2e-1a08-4a46-a756-8c7f045c2071",
   "metadata": {},
   "outputs": [],
   "source": []
  }
 ],
 "metadata": {
  "kernelspec": {
   "display_name": "Python 3 (ipykernel)",
   "language": "python",
   "name": "python3"
  },
  "language_info": {
   "codemirror_mode": {
    "name": "ipython",
    "version": 3
   },
   "file_extension": ".py",
   "mimetype": "text/x-python",
   "name": "python",
   "nbconvert_exporter": "python",
   "pygments_lexer": "ipython3",
   "version": "3.10.13"
  }
 },
 "nbformat": 4,
 "nbformat_minor": 5
}
