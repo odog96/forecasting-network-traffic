{
 "cells": [
  {
   "cell_type": "code",
   "execution_count": 78,
   "id": "027edcbf-d9c1-435d-8cdf-8ac6f2769f0f",
   "metadata": {
    "tags": []
   },
   "outputs": [],
   "source": [
    "import numpy as np\n",
    "import pandas as pd\n",
    "import time"
   ]
  },
  {
   "cell_type": "code",
   "execution_count": 3,
   "id": "de159395-43be-4e4d-ab42-13a2308c5f38",
   "metadata": {
    "tags": []
   },
   "outputs": [],
   "source": [
    "window = 24"
   ]
  },
  {
   "cell_type": "code",
   "execution_count": 4,
   "id": "0a3d5570-181e-40ad-95e6-d86e9fddaff7",
   "metadata": {
    "tags": []
   },
   "outputs": [],
   "source": [
    "df = pd.read_csv('data/simple_synthetic_data.csv')"
   ]
  },
  {
   "cell_type": "code",
   "execution_count": 5,
   "id": "5d381070-bd60-4da6-a84a-e1208cc83123",
   "metadata": {
    "tags": []
   },
   "outputs": [
    {
     "data": {
      "text/plain": [
       "(721, 5)"
      ]
     },
     "execution_count": 5,
     "metadata": {},
     "output_type": "execute_result"
    }
   ],
   "source": [
    "df.shape"
   ]
  },
  {
   "cell_type": "code",
   "execution_count": 50,
   "id": "80a821c7-099f-4434-95ba-eabbdb8d93ac",
   "metadata": {
    "tags": []
   },
   "outputs": [
    {
     "data": {
      "text/html": [
       "<div>\n",
       "<style scoped>\n",
       "    .dataframe tbody tr th:only-of-type {\n",
       "        vertical-align: middle;\n",
       "    }\n",
       "\n",
       "    .dataframe tbody tr th {\n",
       "        vertical-align: top;\n",
       "    }\n",
       "\n",
       "    .dataframe thead th {\n",
       "        text-align: right;\n",
       "    }\n",
       "</style>\n",
       "<table border=\"1\" class=\"dataframe\">\n",
       "  <thead>\n",
       "    <tr style=\"text-align: right;\">\n",
       "      <th></th>\n",
       "      <th>link</th>\n",
       "      <th>location</th>\n",
       "      <th>time</th>\n",
       "      <th>rx_gbs</th>\n",
       "      <th>tx_gbs</th>\n",
       "    </tr>\n",
       "  </thead>\n",
       "  <tbody>\n",
       "    <tr>\n",
       "      <th>0</th>\n",
       "      <td>Verizon</td>\n",
       "      <td>US-DA3</td>\n",
       "      <td>2024-05-01 00:00:00</td>\n",
       "      <td>2.465220</td>\n",
       "      <td>9.689268</td>\n",
       "    </tr>\n",
       "    <tr>\n",
       "      <th>1</th>\n",
       "      <td>Verizon</td>\n",
       "      <td>US-DA3</td>\n",
       "      <td>2024-05-01 01:00:00</td>\n",
       "      <td>2.280575</td>\n",
       "      <td>11.636575</td>\n",
       "    </tr>\n",
       "    <tr>\n",
       "      <th>2</th>\n",
       "      <td>Verizon</td>\n",
       "      <td>US-DA3</td>\n",
       "      <td>2024-05-01 02:00:00</td>\n",
       "      <td>1.702963</td>\n",
       "      <td>3.688097</td>\n",
       "    </tr>\n",
       "    <tr>\n",
       "      <th>3</th>\n",
       "      <td>Verizon</td>\n",
       "      <td>US-DA3</td>\n",
       "      <td>2024-05-01 03:00:00</td>\n",
       "      <td>1.565919</td>\n",
       "      <td>10.631742</td>\n",
       "    </tr>\n",
       "    <tr>\n",
       "      <th>4</th>\n",
       "      <td>Verizon</td>\n",
       "      <td>US-DA3</td>\n",
       "      <td>2024-05-01 04:00:00</td>\n",
       "      <td>0.976097</td>\n",
       "      <td>4.585088</td>\n",
       "    </tr>\n",
       "  </tbody>\n",
       "</table>\n",
       "</div>"
      ],
      "text/plain": [
       "      link location                 time    rx_gbs     tx_gbs\n",
       "0  Verizon   US-DA3  2024-05-01 00:00:00  2.465220   9.689268\n",
       "1  Verizon   US-DA3  2024-05-01 01:00:00  2.280575  11.636575\n",
       "2  Verizon   US-DA3  2024-05-01 02:00:00  1.702963   3.688097\n",
       "3  Verizon   US-DA3  2024-05-01 03:00:00  1.565919  10.631742\n",
       "4  Verizon   US-DA3  2024-05-01 04:00:00  0.976097   4.585088"
      ]
     },
     "execution_count": 50,
     "metadata": {},
     "output_type": "execute_result"
    }
   ],
   "source": [
    "df.head()"
   ]
  },
  {
   "cell_type": "code",
   "execution_count": 6,
   "id": "8e1b6b40-38ca-4de7-804a-dcb7c64a96c0",
   "metadata": {
    "tags": []
   },
   "outputs": [],
   "source": [
    "df.sort_values(by=['time'],inplace=True)"
   ]
  },
  {
   "cell_type": "code",
   "execution_count": 56,
   "id": "bd7dc63b-a0a8-46d3-a022-beccc27d6857",
   "metadata": {
    "tags": []
   },
   "outputs": [],
   "source": [
    "stride = 12"
   ]
  },
  {
   "cell_type": "code",
   "execution_count": 79,
   "id": "9fe73151-93d9-4d86-b124-7bb3b7a91f0d",
   "metadata": {
    "tags": []
   },
   "outputs": [
    {
     "name": "stdout",
     "output_type": "stream",
     "text": [
      "kick off load ground truth\n",
      "kick off load ground truth\n",
      "kick off load ground truth\n",
      "kick off load ground truth\n",
      "kick off load ground truth\n",
      "kick off load ground truth\n",
      "kick off load ground truth\n",
      "kick off load ground truth\n",
      "kick off load ground truth\n",
      "kick off load ground truth\n",
      "kick off load ground truth\n",
      "kick off load ground truth\n",
      "kick off load ground truth\n",
      "kick off load ground truth\n",
      "kick off load ground truth\n",
      "kick off load ground truth\n",
      "kick off load ground truth\n",
      "kick off load ground truth\n",
      "kick off load ground truth\n",
      "kick off load ground truth\n",
      "kick off load ground truth\n",
      "kick off load ground truth\n",
      "kick off load ground truth\n",
      "kick off load ground truth\n",
      "kick off load ground truth\n",
      "kick off load ground truth\n",
      "kick off load ground truth\n",
      "kick off load ground truth\n",
      "kick off load ground truth\n",
      "kick off load ground truth\n"
     ]
    }
   ],
   "source": [
    "# add 1 to window because of lag calculation\n",
    "for j,i in enumerate(range(0,df.shape[0]-(window),stride)):\n",
    "    temp_df = df.iloc[i:window+1+i,:] # \n",
    "    time.sleep(1)\n",
    "    if j%2 == 0:\n",
    "        print('kick off load ground truth')"
   ]
  },
  {
   "cell_type": "code",
   "execution_count": 71,
   "id": "04a5b095-c3cb-4c4c-bfb3-c8fa11c3cd9f",
   "metadata": {
    "tags": []
   },
   "outputs": [
    {
     "data": {
      "text/plain": [
       "(25, 5)"
      ]
     },
     "execution_count": 71,
     "metadata": {},
     "output_type": "execute_result"
    }
   ],
   "source": [
    "temp_df.shape"
   ]
  },
  {
   "cell_type": "code",
   "execution_count": 75,
   "id": "8beb3085-0e87-44b9-a641-99e95ecdb5d4",
   "metadata": {
    "tags": []
   },
   "outputs": [
    {
     "name": "stdout",
     "output_type": "stream",
     "text": [
      "58\n"
     ]
    }
   ],
   "source": [
    "print(j)"
   ]
  },
  {
   "cell_type": "code",
   "execution_count": 74,
   "id": "4a9ef89c-1008-4d3a-9f7d-bc36e5f06671",
   "metadata": {
    "tags": []
   },
   "outputs": [
    {
     "data": {
      "text/html": [
       "<div>\n",
       "<style scoped>\n",
       "    .dataframe tbody tr th:only-of-type {\n",
       "        vertical-align: middle;\n",
       "    }\n",
       "\n",
       "    .dataframe tbody tr th {\n",
       "        vertical-align: top;\n",
       "    }\n",
       "\n",
       "    .dataframe thead th {\n",
       "        text-align: right;\n",
       "    }\n",
       "</style>\n",
       "<table border=\"1\" class=\"dataframe\">\n",
       "  <thead>\n",
       "    <tr style=\"text-align: right;\">\n",
       "      <th></th>\n",
       "      <th>link</th>\n",
       "      <th>location</th>\n",
       "      <th>time</th>\n",
       "      <th>rx_gbs</th>\n",
       "      <th>tx_gbs</th>\n",
       "    </tr>\n",
       "  </thead>\n",
       "  <tbody>\n",
       "    <tr>\n",
       "      <th>716</th>\n",
       "      <td>Verizon</td>\n",
       "      <td>US-DA3</td>\n",
       "      <td>2024-05-30 20:00:00</td>\n",
       "      <td>1.362047</td>\n",
       "      <td>7.985688</td>\n",
       "    </tr>\n",
       "    <tr>\n",
       "      <th>717</th>\n",
       "      <td>Verizon</td>\n",
       "      <td>US-DA3</td>\n",
       "      <td>2024-05-30 21:00:00</td>\n",
       "      <td>0.741191</td>\n",
       "      <td>4.405164</td>\n",
       "    </tr>\n",
       "    <tr>\n",
       "      <th>718</th>\n",
       "      <td>Verizon</td>\n",
       "      <td>US-DA3</td>\n",
       "      <td>2024-05-30 22:00:00</td>\n",
       "      <td>1.326729</td>\n",
       "      <td>3.901358</td>\n",
       "    </tr>\n",
       "    <tr>\n",
       "      <th>719</th>\n",
       "      <td>Verizon</td>\n",
       "      <td>US-DA3</td>\n",
       "      <td>2024-05-30 23:00:00</td>\n",
       "      <td>1.405040</td>\n",
       "      <td>4.796930</td>\n",
       "    </tr>\n",
       "    <tr>\n",
       "      <th>720</th>\n",
       "      <td>Verizon</td>\n",
       "      <td>US-DA3</td>\n",
       "      <td>2024-05-31 00:00:00</td>\n",
       "      <td>0.971601</td>\n",
       "      <td>3.855629</td>\n",
       "    </tr>\n",
       "  </tbody>\n",
       "</table>\n",
       "</div>"
      ],
      "text/plain": [
       "        link location                 time    rx_gbs    tx_gbs\n",
       "716  Verizon   US-DA3  2024-05-30 20:00:00  1.362047  7.985688\n",
       "717  Verizon   US-DA3  2024-05-30 21:00:00  0.741191  4.405164\n",
       "718  Verizon   US-DA3  2024-05-30 22:00:00  1.326729  3.901358\n",
       "719  Verizon   US-DA3  2024-05-30 23:00:00  1.405040  4.796930\n",
       "720  Verizon   US-DA3  2024-05-31 00:00:00  0.971601  3.855629"
      ]
     },
     "execution_count": 74,
     "metadata": {},
     "output_type": "execute_result"
    }
   ],
   "source": [
    "temp_df.tail()"
   ]
  },
  {
   "cell_type": "code",
   "execution_count": 5,
   "id": "dcea596b-51ed-4a1f-8dec-6d775b396b72",
   "metadata": {
    "tags": []
   },
   "outputs": [
    {
     "data": {
      "text/plain": [
       "'2024-04-26 02:00:00'"
      ]
     },
     "execution_count": 5,
     "metadata": {},
     "output_type": "execute_result"
    }
   ],
   "source": [
    "df.time.max()"
   ]
  },
  {
   "cell_type": "code",
   "execution_count": 33,
   "id": "eb9dfa2e-1a08-4a46-a756-8c7f045c2071",
   "metadata": {},
   "outputs": [
    {
     "name": "stdout",
     "output_type": "stream",
     "text": [
      "2\n",
      "5\n",
      "8\n",
      "11\n",
      "14\n",
      "17\n",
      "20\n",
      "23\n",
      "26\n",
      "29\n"
     ]
    }
   ],
   "source": [
    "for x in range(2, 30, 3):\n",
    "  print(x)"
   ]
  },
  {
   "cell_type": "code",
   "execution_count": null,
   "id": "d530e3fe-c35c-4a23-af4b-761e25138d39",
   "metadata": {},
   "outputs": [],
   "source": []
  }
 ],
 "metadata": {
  "kernelspec": {
   "display_name": "Python 3 (ipykernel)",
   "language": "python",
   "name": "python3"
  },
  "language_info": {
   "codemirror_mode": {
    "name": "ipython",
    "version": 3
   },
   "file_extension": ".py",
   "mimetype": "text/x-python",
   "name": "python",
   "nbconvert_exporter": "python",
   "pygments_lexer": "ipython3",
   "version": "3.10.13"
  }
 },
 "nbformat": 4,
 "nbformat_minor": 5
}
