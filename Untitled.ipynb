{
 "cells": [
  {
   "cell_type": "code",
   "execution_count": 5,
   "id": "c41ab0d0-41a4-4283-ac41-91b1cff84119",
   "metadata": {
    "tags": []
   },
   "outputs": [],
   "source": [
    "import itertools\n"
   ]
  },
  {
   "cell_type": "code",
   "execution_count": 1,
   "id": "95e11ad8-2051-48ee-a498-171c50f49bb7",
   "metadata": {
    "tags": []
   },
   "outputs": [],
   "source": [
    "dense_layers_counts = [4]  # Number of dense layers: 1, 2, and 4\n",
    "layer_sizes = [32, 64]\n",
    "dropout_rates = [0, 0.2]"
   ]
  },
  {
   "cell_type": "code",
   "execution_count": 6,
   "id": "bf5bbc59-a7e0-4c56-b047-76d834eb129c",
   "metadata": {
    "tags": []
   },
   "outputs": [],
   "source": [
    "# Use itertools.product to create a combinations set\n",
    "parameter_combinations = list(itertools.product(dense_layers_counts, layer_sizes, dropout_rates))"
   ]
  },
  {
   "cell_type": "code",
   "execution_count": 7,
   "id": "2cb146a8-8c3d-4a8f-9e93-4adaddde69f1",
   "metadata": {
    "tags": []
   },
   "outputs": [
    {
     "name": "stdout",
     "output_type": "stream",
     "text": [
      "[32, 32, 32, 32]\n",
      "[32, 32, 32, 32]\n",
      "[64, 64, 64, 64]\n",
      "[64, 64, 64, 64]\n"
     ]
    }
   ],
   "source": [
    "for dense_layers_count, layer_size, dropout_rate in parameter_combinations:\n",
    "    # Create the dense_layers array with the current layer_size repeated dense_layers_count times\n",
    "    dense_layers = [layer_size] * dense_layers_count\n",
    "    print(dense_layers)"
   ]
  },
  {
   "cell_type": "code",
   "execution_count": 4,
   "id": "8d99db84-5f2b-4baa-a537-8fc5b447e6c1",
   "metadata": {},
   "outputs": [],
   "source": [
    "response_list = []"
   ]
  },
  {
   "cell_type": "code",
   "execution_count": 5,
   "id": "503b9331-cdf7-480a-bb88-3ae63b6a3ccd",
   "metadata": {
    "tags": []
   },
   "outputs": [],
   "source": [
    "for item in range(3,30,3):\n",
    "#    print(item)\n",
    "    response_list.append(item)"
   ]
  },
  {
   "cell_type": "code",
   "execution_count": 6,
   "id": "aed3d886-32c3-46d7-9a66-92a541c7f422",
   "metadata": {
    "tags": []
   },
   "outputs": [
    {
     "data": {
      "text/plain": [
       "[3, 6, 9, 12, 15, 18, 21, 24, 27]"
      ]
     },
     "execution_count": 6,
     "metadata": {},
     "output_type": "execute_result"
    }
   ],
   "source": [
    "response_list"
   ]
  },
  {
   "cell_type": "code",
   "execution_count": 13,
   "id": "6bb50c5b-6bec-476b-a774-a8efc5345224",
   "metadata": {
    "tags": []
   },
   "outputs": [
    {
     "data": {
      "text/plain": [
       "[24, 27]"
      ]
     },
     "execution_count": 13,
     "metadata": {},
     "output_type": "execute_result"
    }
   ],
   "source": [
    "response_list[-2:]"
   ]
  },
  {
   "cell_type": "code",
   "execution_count": null,
   "id": "4c9925bf-f825-448f-8520-1bf0835740d7",
   "metadata": {},
   "outputs": [],
   "source": []
  }
 ],
 "metadata": {
  "kernelspec": {
   "display_name": "Python 3 (ipykernel)",
   "language": "python",
   "name": "python3"
  },
  "language_info": {
   "codemirror_mode": {
    "name": "ipython",
    "version": 3
   },
   "file_extension": ".py",
   "mimetype": "text/x-python",
   "name": "python",
   "nbconvert_exporter": "python",
   "pygments_lexer": "ipython3",
   "version": "3.10.13"
  }
 },
 "nbformat": 4,
 "nbformat_minor": 5
}
