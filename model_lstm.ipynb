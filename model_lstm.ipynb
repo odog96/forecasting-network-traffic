{
 "cells": [
  {
   "cell_type": "code",
   "execution_count": null,
   "id": "c9357aac-9676-46fb-908c-1a6fd50c0ba8",
   "metadata": {
    "tags": []
   },
   "outputs": [],
   "source": [
    "import pandas as pd\n",
    "import numpy as np\n",
    "import json\n",
    "import seaborn as sns\n",
    "import matplotlib.pyplot as plt\n",
    "import time\n",
    "\n",
    "import tensorflow as tf\n",
    "from tensorflow.keras.models import Sequential, Model\n",
    "from tensorflow.keras.layers import LSTM, Dense ,Input, LSTM, Concatenate, Dropout, Reshape\n",
    "from tensorflow.keras.callbacks import EarlyStopping\n",
    "from tensorflow.keras.utils import plot_model\n",
    "\n",
    "from sklearn.preprocessing import StandardScaler, OneHotEncoder\n",
    "from sklearn.model_selection import train_test_split\n",
    "import joblib\n",
    "import datetime"
   ]
  },
  {
   "cell_type": "markdown",
   "id": "a610a17f-2d5c-4e08-86f3-06a4a488e7e1",
   "metadata": {},
   "source": [
    "Load data"
   ]
  },
  {
   "cell_type": "code",
   "execution_count": null,
   "id": "3885c13a-d6ee-4f6c-a2a8-6d8532f39375",
   "metadata": {
    "tags": []
   },
   "outputs": [],
   "source": [
    "df = pd.read_csv('data/netstats_hourly_4_3.csv')"
   ]
  },
  {
   "cell_type": "code",
   "execution_count": null,
   "id": "1a1226cb-1ab6-4c91-9c33-d965d1458141",
   "metadata": {
    "tags": []
   },
   "outputs": [],
   "source": [
    "df.head()"
   ]
  },
  {
   "cell_type": "markdown",
   "id": "7bb6537c-122d-4d41-8106-f5ec34e55940",
   "metadata": {},
   "source": [
    "**Feature Creation**"
   ]
  },
  {
   "cell_type": "code",
   "execution_count": null,
   "id": "e4b06aa2-c19d-4f27-b462-368dc14ce679",
   "metadata": {
    "tags": []
   },
   "outputs": [],
   "source": [
    "df['rx_gbs_delta'] = df.groupby('link_loc')['rx_gbs'].diff()\n",
    "\n",
    "# Calculate tx_gbs_delta\n",
    "df['tx_gbs_delta'] = df.groupby('link_loc')['tx_gbs'].diff()\n",
    "\n",
    "# The first delta_delta value for each link_loc group will be NaN because there's no previous value to subtract from.\n",
    "# You might want to fill these NaN values depending on your requirements, for example, with 0s:\n",
    "df['rx_gbs_delta'] = df['rx_gbs_delta'].fillna(0)\n",
    "df['tx_gbs_delta'] = df['tx_gbs_delta'].fillna(0)"
   ]
  },
  {
   "cell_type": "code",
   "execution_count": null,
   "id": "744c4e40-4ae4-46c7-afd1-8c0847c84b4a",
   "metadata": {
    "tags": []
   },
   "outputs": [],
   "source": [
    "# ensure 'time' is a datetime64 type\n",
    "df['time'] = pd.to_datetime(df['time'])\n",
    "\n",
    "# Extract hour of day\n",
    "df['hour_of_day'] = df['time'].dt.hour\n",
    "\n",
    "# Extract day of the week (Monday=0, Sunday=6)\n",
    "df['day_of_week'] = df['time'].dt.dayofweek"
   ]
  },
  {
   "cell_type": "code",
   "execution_count": null,
   "id": "da6f2427-389c-4dee-a8a2-f41a9cacc5b7",
   "metadata": {
    "tags": []
   },
   "outputs": [],
   "source": [
    "# Encode 'hour_of_day' cyclically\n",
    "df['hour_sin'] = np.sin(2 * np.pi * df['hour_of_day']/24)\n",
    "df['hour_cos'] = np.cos(2 * np.pi * df['hour_of_day']/24)\n",
    "\n",
    "# Encode 'day_of_week' cyclically\n",
    "df['day_sin'] = np.sin(2 * np.pi * df['day_of_week']/7)\n",
    "df['day_cos'] = np.cos(2 * np.pi * df['day_of_week']/7)"
   ]
  },
  {
   "cell_type": "code",
   "execution_count": null,
   "id": "d7c864f2-fbd9-4bf3-99c5-fd72cead12b8",
   "metadata": {
    "tags": []
   },
   "outputs": [],
   "source": [
    "df.drop(columns=['hour_of_day','day_of_week'],inplace=True)"
   ]
  },
  {
   "cell_type": "code",
   "execution_count": null,
   "id": "6d0871fc-4fde-4b38-ba32-12286016f4da",
   "metadata": {
    "tags": []
   },
   "outputs": [],
   "source": [
    "# encode fields\n",
    "enc = OneHotEncoder(handle_unknown='ignore',sparse_output=False).set_output(transform='pandas')\n",
    "\n",
    "ohefit = enc.fit(df[['link', 'location']])\n",
    "\n",
    "joblib.dump(ohefit, './model/ohefit.save')\n",
    "\n",
    "#ohetransform = enc.fit_transform(df[['link_loc']])\n",
    "ohetransform = enc.fit_transform(df[['link', 'location']])\n",
    "\n",
    "df_encoded = pd.concat([df,ohetransform],axis = 1).drop(columns= ['link', 'location'])"
   ]
  },
  {
   "cell_type": "markdown",
   "id": "fa03f6b3-fcba-4962-8a4b-78202aeec55a",
   "metadata": {},
   "source": [
    "**Skipping scaling momentarily**"
   ]
  },
  {
   "cell_type": "code",
   "execution_count": 16,
   "id": "1a060c22-ab25-4f4b-b4c0-1b43d3f2943b",
   "metadata": {
    "tags": []
   },
   "outputs": [],
   "source": [
    "# scaling fields\n",
    "# Selecting the columns to scale, which have 'delta' in their names\n",
    "# features_to_scale = [col for col in df_encoded.columns if 'delta' in col]\n",
    "\n",
    "# # Fitting the scaler on the selected features and transforming them\n",
    "# scaler = StandardScaler()\n",
    "# df_encoded[features_to_scale] = scaler.fit_transform(df_encoded[features_to_scale])\n",
    "\n",
    "# # Save the scaler to a file for later use\n",
    "# joblib.dump(scaler, './model/scaler.save')"
   ]
  },
  {
   "cell_type": "code",
   "execution_count": 1,
   "id": "1b967bb0-5110-4f48-8224-489fa2a154e3",
   "metadata": {
    "tags": []
   },
   "outputs": [
    {
     "ename": "NameError",
     "evalue": "name 'df_encoded' is not defined",
     "output_type": "error",
     "traceback": [
      "\u001b[0;31m---------------------------------------------------------------------------\u001b[0m",
      "\u001b[0;31mNameError\u001b[0m                                 Traceback (most recent call last)",
      "Cell \u001b[0;32mIn[1], line 2\u001b[0m\n\u001b[1;32m      1\u001b[0m \u001b[38;5;66;03m# df_encoded.iloc[:,10:].drop_duplicates().shape\u001b[39;00m\n\u001b[0;32m----> 2\u001b[0m \u001b[43mdf_encoded\u001b[49m\u001b[38;5;241m.\u001b[39mT\u001b[38;5;241m.\u001b[39miloc[:,:\u001b[38;5;241m5\u001b[39m]\n",
      "\u001b[0;31mNameError\u001b[0m: name 'df_encoded' is not defined"
     ]
    }
   ],
   "source": [
    "# df_encoded.iloc[:,10:].drop_duplicates().shape\n",
    "df_encoded.T.iloc[:,:5]"
   ]
  },
  {
   "cell_type": "code",
   "execution_count": null,
   "id": "7abb3dfa-7ee4-4a3c-8903-0d25f1adff69",
   "metadata": {
    "tags": []
   },
   "outputs": [],
   "source": []
  },
  {
   "cell_type": "markdown",
   "id": "ace26722-8db6-486a-a37e-7a9adec92b6c",
   "metadata": {},
   "source": [
    "### Model Architechture"
   ]
  },
  {
   "cell_type": "markdown",
   "id": "4e4c400b-0ca9-4895-87e7-d363dac31a6a",
   "metadata": {
    "tags": []
   },
   "source": [
    "![Model Architecture](assets/model_arch.png)"
   ]
  },
  {
   "cell_type": "code",
   "execution_count": 18,
   "id": "594931c3-26a2-4f29-a1e7-a62ce4d7e126",
   "metadata": {
    "tags": []
   },
   "outputs": [],
   "source": [
    "# generating the size of the inputs based on number of fields of each type\n",
    "temporal_count = 0\n",
    "num_non_temporal_features = 0\n",
    "num_semi_temporal_features = 0\n",
    "for col in list(df_encoded.drop(columns=['link_loc']).columns):\n",
    "    if 'hour' in col or 'day' in col:\n",
    "        num_semi_temporal_features +=1\n",
    "    if 'link' in col or 'location' in col:\n",
    "        num_non_temporal_features +=1\n",
    "    if 'delta' in col:\n",
    "        temporal_count +=1"
   ]
  },
  {
   "cell_type": "markdown",
   "id": "763e9617-44a7-49a3-acf7-4eefeb93d36f",
   "metadata": {},
   "source": [
    "**Model Inputs**"
   ]
  },
  {
   "cell_type": "code",
   "execution_count": 27,
   "id": "150df2bb-1c6b-45cf-bdcd-edbcb629d8f6",
   "metadata": {
    "tags": []
   },
   "outputs": [],
   "source": [
    "# variables\n",
    "#window = 48 # historical or features\n",
    "#horizon = 12 # forecast size\n",
    "window = 24 # historical or features\n",
    "horizon = 6 # forecast size\n",
    "\n",
    "batch = 32\n",
    "\n",
    "dense_size = 64\n",
    "num_layers = 4\n",
    "\n",
    "# layer_size = 64\n",
    "# dense_layers_count =4\n",
    "\n",
    "epochs = 100"
   ]
  },
  {
   "cell_type": "markdown",
   "id": "a48ceb31-2509-4e08-bbea-6e32a75cfc99",
   "metadata": {},
   "source": [
    "**Training Data prep Functions**"
   ]
  },
  {
   "cell_type": "code",
   "execution_count": 20,
   "id": "22065399-0d04-4134-b518-c7719c4a7fa5",
   "metadata": {
    "tags": []
   },
   "outputs": [
    {
     "data": {
      "text/plain": [
       "(17504, 22)"
      ]
     },
     "execution_count": 20,
     "metadata": {},
     "output_type": "execute_result"
    }
   ],
   "source": [
    "df_encoded.shape"
   ]
  },
  {
   "cell_type": "code",
   "execution_count": 21,
   "id": "65ca41ac-186c-4ea1-8ad4-d171747fa541",
   "metadata": {
    "tags": []
   },
   "outputs": [],
   "source": [
    "def split_feature_set(df_in):\n",
    "    \"\"\" given a dataframe with a single site host combination will return 3 features sets\"\"\"\n",
    "    # Temporal features\n",
    "    temporal_features = df_in[['rx_gbs','rx_gbs_delta', 'tx_gbs','tx_gbs_delta']].values\n",
    "    # Non-temporal features (one-hot encoded site and host)\n",
    "    non_temporal_features_list = [col for col in df_in.columns if 'link' in col or 'location' in col]\n",
    "    non_temporal_features = df_in[non_temporal_features_list].values\n",
    "    # Semi-temporal features\n",
    "    semi_temporal_features = df_in[['hour_sin', 'hour_cos', 'day_sin', 'day_cos']].values\n",
    "    return temporal_features, non_temporal_features, semi_temporal_features"
   ]
  },
  {
   "cell_type": "code",
   "execution_count": 22,
   "id": "d970bc04-6c36-4bde-bfec-c56b1d8b16ed",
   "metadata": {
    "tags": []
   },
   "outputs": [],
   "source": [
    "def data_split(xt, xnt, xst, yt, batch_size):\n",
    "    split_size = int(len(xt) * 0.8)\n",
    "    \n",
    "    xt_train, xt_valid = xt[:split_size], xt[split_size:]\n",
    "    xnt_train, xnt_valid = xnt[:split_size], xnt[split_size:]\n",
    "    xst_train, xst_valid = xst[:split_size], xst[split_size:]\n",
    "    yt_train, yt_valid = yt[:split_size], yt[split_size:]\n",
    "    \n",
    "    # Create datasets for the training and validation sets\n",
    "    train_ds = tf.data.Dataset.from_tensor_slices(((xt_train, xnt_train, xst_train), yt_train)).batch(batch_size)\n",
    "    valid_ds = tf.data.Dataset.from_tensor_slices(((xt_valid, xnt_valid, xst_valid), yt_valid)).batch(batch_size)\n",
    "    return train_ds, valid_ds, xt_valid, xnt_valid, xst_valid, yt_valid"
   ]
  },
  {
   "cell_type": "code",
   "execution_count": 23,
   "id": "c5813264-8c36-4e5d-80b5-b27ae912543a",
   "metadata": {
    "tags": []
   },
   "outputs": [],
   "source": [
    "# Generate training set with features and labels (from time series data)\n",
    "def window_gen(x_t,x_nt,x_st,window,horizon):\n",
    "    xt,yt, xnt,xst = [],[],[],[]    \n",
    "    for i in range(window,len(x_t)-horizon):\n",
    "        xt.append(x_t[i-window:i,])\n",
    "        xnt.append(x_nt[i,:])\n",
    "        xst.append(x_st[i,:])\n",
    "        yt.append(x_t[i:i+horizon,:2])\n",
    "    return xt,xnt,xst,yt"
   ]
  },
  {
   "cell_type": "code",
   "execution_count": 24,
   "id": "d6000941-63fc-4563-af3b-ebd3293836bf",
   "metadata": {
    "tags": []
   },
   "outputs": [],
   "source": [
    "# using root mean square error to punish model more heavily for missing spikes\n",
    "@tf.keras.utils.register_keras_serializable()\n",
    "def rmse(y_true, y_pred):\n",
    "    return tf.sqrt(tf.reduce_mean(tf.square(y_true - y_pred)))"
   ]
  },
  {
   "cell_type": "code",
   "execution_count": 25,
   "id": "e69edb59-0dd3-495d-b383-7c7e6b6466e9",
   "metadata": {
    "tags": []
   },
   "outputs": [],
   "source": [
    "def create_model(n_past, num_features, n_future, num_semi_temporal_features,num_non_temporal_features, lstm_units=64, non_temporal_size=50, semi_temporal_size=50, \n",
    "                 dense_layers=[50], activation='relu', dropout_rate=0.1):\n",
    "\n",
    "    # Temporal features input\n",
    "    temporal_input = Input(shape=(n_past, num_features))\n",
    "\n",
    "    # LSTM branch for temporal features\n",
    "    lstm_out = LSTM(units=lstm_units, return_sequences=False)(temporal_input)\n",
    "    lstm_out = Dropout(dropout_rate)(lstm_out)\n",
    "\n",
    "    # Non-temporal features input\n",
    "    non_temporal_input = Input(shape=(num_non_temporal_features,))  \n",
    "    non_temporal_branch = Dense(non_temporal_size, activation=activation)(non_temporal_input)\n",
    "    non_temporal_branch = Dropout(dropout_rate)(non_temporal_branch)\n",
    "\n",
    "    # Semi-temporal features input\n",
    "    semi_temporal_input = Input(shape=(num_semi_temporal_features,))\n",
    "    semi_temporal_branch = Dense(semi_temporal_size, activation=activation)(semi_temporal_input)\n",
    "    semi_temporal_branch = Dropout(dropout_rate)(semi_temporal_branch)\n",
    "\n",
    "    # Concatenate outputs\n",
    "    combined = Concatenate()([lstm_out, non_temporal_branch, semi_temporal_branch])\n",
    "\n",
    "    # Additional Dense layers as specified\n",
    "    for layer_size in dense_layers:\n",
    "        combined = Dense(layer_size, activation=activation)(combined)\n",
    "        combined = Dropout(dropout_rate)(combined)\n",
    "\n",
    "    # Final output layer\n",
    "    final_output = Dense(n_future*2)(combined)  # 2 features\n",
    "    final_output = Reshape((n_future, 2))(final_output)  # Reshape to [?, 12, 2]\n",
    "    \n",
    "    # Construct and compile the model\n",
    "    model = Model(inputs=[temporal_input, non_temporal_input, semi_temporal_input], outputs=final_output)\n",
    "    model.compile(optimizer='adam', loss=rmse)  # Adjust optimizer and loss as needed\n",
    "    #model.compile(optimizer='adam', loss='mse')  # Adjust optimizer and loss as needed\n",
    "    return model"
   ]
  },
  {
   "cell_type": "code",
   "execution_count": 28,
   "id": "91343401-9a36-469e-b214-0c4b1f0ca3b6",
   "metadata": {
    "tags": []
   },
   "outputs": [],
   "source": [
    "# data build\n",
    "xt,xst,xnt, yt = [],[],[],[]\n",
    "\n",
    "for series in df_encoded.link_loc.unique():\n",
    "    temp = df_encoded[df_encoded['link_loc'] == series].copy()\n",
    "    # x_st = temp.drop(columns=['time','link_loc']).values[:,:4] # hour / day\n",
    "    # x_nt = temp.drop(columns=['time','link_loc']).values[:,4:35] # site / host\n",
    "    # x_t = temp.drop(columns=['time','link_loc']).values[:,35:] # site / host\n",
    "    x_t, x_nt, x_st = split_feature_set(temp.drop(columns=['time','link_loc']))\n",
    "    \n",
    "    if len(xt) > 0: # check only scaled, assume it same for both\n",
    "        xt_temp,xnt_temp,xst_temp, y_temp = window_gen(x_t,x_nt,x_st,window,horizon)\n",
    "        for xt_array in xt_temp:\n",
    "            xt.append(xt_array)\n",
    "        \n",
    "        for xnt_array in xnt_temp:\n",
    "            xnt.append(xnt_array)\n",
    "            \n",
    "        for xst_array in xst_temp:\n",
    "            xst.append(xst_array)\n",
    "        \n",
    "        for y_array in y_temp:\n",
    "            yt.append(y_array) \n",
    "    else: \n",
    "     xt,xnt,xst, yt = window_gen(x_t,x_nt,x_st,window,horizon)"
   ]
  },
  {
   "cell_type": "code",
   "execution_count": 29,
   "id": "a851f485-cd21-47c7-9a2a-fbf62d3e97ae",
   "metadata": {
    "tags": []
   },
   "outputs": [],
   "source": [
    "xt = np.array(xt)\n",
    "xnt = np.array(xnt)\n",
    "xst = np.array(xst)\n",
    "yt = np.array(yt)"
   ]
  },
  {
   "cell_type": "code",
   "execution_count": 30,
   "id": "5924056e-f486-439f-866e-ad971a9436f8",
   "metadata": {
    "tags": []
   },
   "outputs": [],
   "source": [
    "layers = [dense_size] * num_layers"
   ]
  },
  {
   "cell_type": "code",
   "execution_count": 31,
   "id": "74b48838-36a7-465b-aeba-0ce0322dc9aa",
   "metadata": {
    "tags": []
   },
   "outputs": [
    {
     "name": "stderr",
     "output_type": "stream",
     "text": [
      "2024-04-27 17:53:52.610943: I tensorflow/compiler/xla/stream_executor/cuda/cuda_gpu_executor.cc:894] successful NUMA node read from SysFS had negative value (-1), but there must be at least one NUMA node, so returning NUMA node zero. See more at https://github.com/torvalds/linux/blob/v6.0/Documentation/ABI/testing/sysfs-bus-pci#L344-L355\n",
      "2024-04-27 17:53:52.643521: I tensorflow/compiler/xla/stream_executor/cuda/cuda_gpu_executor.cc:894] successful NUMA node read from SysFS had negative value (-1), but there must be at least one NUMA node, so returning NUMA node zero. See more at https://github.com/torvalds/linux/blob/v6.0/Documentation/ABI/testing/sysfs-bus-pci#L344-L355\n",
      "2024-04-27 17:53:52.645668: I tensorflow/compiler/xla/stream_executor/cuda/cuda_gpu_executor.cc:894] successful NUMA node read from SysFS had negative value (-1), but there must be at least one NUMA node, so returning NUMA node zero. See more at https://github.com/torvalds/linux/blob/v6.0/Documentation/ABI/testing/sysfs-bus-pci#L344-L355\n",
      "2024-04-27 17:53:52.655814: I tensorflow/compiler/xla/stream_executor/cuda/cuda_gpu_executor.cc:894] successful NUMA node read from SysFS had negative value (-1), but there must be at least one NUMA node, so returning NUMA node zero. See more at https://github.com/torvalds/linux/blob/v6.0/Documentation/ABI/testing/sysfs-bus-pci#L344-L355\n",
      "2024-04-27 17:53:52.657181: I tensorflow/compiler/xla/stream_executor/cuda/cuda_gpu_executor.cc:894] successful NUMA node read from SysFS had negative value (-1), but there must be at least one NUMA node, so returning NUMA node zero. See more at https://github.com/torvalds/linux/blob/v6.0/Documentation/ABI/testing/sysfs-bus-pci#L344-L355\n",
      "2024-04-27 17:53:52.658452: I tensorflow/compiler/xla/stream_executor/cuda/cuda_gpu_executor.cc:894] successful NUMA node read from SysFS had negative value (-1), but there must be at least one NUMA node, so returning NUMA node zero. See more at https://github.com/torvalds/linux/blob/v6.0/Documentation/ABI/testing/sysfs-bus-pci#L344-L355\n",
      "2024-04-27 17:53:52.832513: I tensorflow/compiler/xla/stream_executor/cuda/cuda_gpu_executor.cc:894] successful NUMA node read from SysFS had negative value (-1), but there must be at least one NUMA node, so returning NUMA node zero. See more at https://github.com/torvalds/linux/blob/v6.0/Documentation/ABI/testing/sysfs-bus-pci#L344-L355\n",
      "2024-04-27 17:53:52.834737: I tensorflow/compiler/xla/stream_executor/cuda/cuda_gpu_executor.cc:894] successful NUMA node read from SysFS had negative value (-1), but there must be at least one NUMA node, so returning NUMA node zero. See more at https://github.com/torvalds/linux/blob/v6.0/Documentation/ABI/testing/sysfs-bus-pci#L344-L355\n",
      "2024-04-27 17:53:52.836038: I tensorflow/compiler/xla/stream_executor/cuda/cuda_gpu_executor.cc:894] successful NUMA node read from SysFS had negative value (-1), but there must be at least one NUMA node, so returning NUMA node zero. See more at https://github.com/torvalds/linux/blob/v6.0/Documentation/ABI/testing/sysfs-bus-pci#L344-L355\n",
      "2024-04-27 17:53:52.837300: I tensorflow/core/common_runtime/gpu/gpu_device.cc:1886] Created device /job:localhost/replica:0/task:0/device:GPU:0 with 1129 MB memory:  -> device: 0, name: NVIDIA A100 80GB PCIe MIG 3g.40gb, pci bus id: 0000:1b:00.0, compute capability: 8.0\n",
      "2024-04-27 17:53:52.998611: I tensorflow/tsl/platform/default/subprocess.cc:304] Start cannot spawn child process: No such file or directory\n"
     ]
    }
   ],
   "source": [
    "model = create_model(window, 4, horizon, num_semi_temporal_features,num_non_temporal_features, dense_layers = layers)"
   ]
  },
  {
   "cell_type": "code",
   "execution_count": 32,
   "id": "5d2a37c9-dd21-4e0d-b107-f7dffae7bd86",
   "metadata": {
    "tags": []
   },
   "outputs": [],
   "source": [
    "train_ds, valid_ds, xt_valid, xnt_valid, xst_valid, yt_valid = data_split(xt, xnt, xst, yt, batch)"
   ]
  },
  {
   "cell_type": "code",
   "execution_count": 33,
   "id": "2b96b2b6-2a78-4113-b376-7ec694924e1e",
   "metadata": {
    "tags": []
   },
   "outputs": [],
   "source": [
    "early_stopping = EarlyStopping(monitor='val_loss', patience=5, restore_best_weights=True)"
   ]
  },
  {
   "cell_type": "code",
   "execution_count": 34,
   "id": "b9fc5e71-53be-4eba-9794-b0d6f3a085d4",
   "metadata": {
    "tags": []
   },
   "outputs": [],
   "source": [
    "log_dir = \"logs/fit/\" + datetime.datetime.now().strftime(\"%Y%m%d-%H%M%S\")\n",
    "tensorboard_callback = tf.keras.callbacks.TensorBoard(log_dir=log_dir, histogram_freq=1)"
   ]
  },
  {
   "cell_type": "code",
   "execution_count": 35,
   "id": "494c79fb-64c9-4e37-a9a5-7e1c1d07ab67",
   "metadata": {
    "tags": []
   },
   "outputs": [
    {
     "name": "stdout",
     "output_type": "stream",
     "text": [
      "Epoch 1/100\n"
     ]
    },
    {
     "name": "stderr",
     "output_type": "stream",
     "text": [
      "2024-04-27 17:54:01.306284: I tensorflow/compiler/xla/stream_executor/cuda/cuda_dnn.cc:442] Loaded cuDNN version 8700\n",
      "2024-04-27 17:54:02.690432: I tensorflow/compiler/xla/service/service.cc:168] XLA service 0x7fdda42fad10 initialized for platform CUDA (this does not guarantee that XLA will be used). Devices:\n",
      "2024-04-27 17:54:02.690500: I tensorflow/compiler/xla/service/service.cc:176]   StreamExecutor device (0): NVIDIA A100 80GB PCIe MIG 3g.40gb, Compute Capability 8.0\n",
      "2024-04-27 17:54:02.707369: I tensorflow/compiler/mlir/tensorflow/utils/dump_mlir_util.cc:269] disabling MLIR crash reproducer, set env var `MLIR_CRASH_REPRODUCER_DIRECTORY` to enable.\n",
      "2024-04-27 17:54:02.878637: I ./tensorflow/compiler/jit/device_compiler.h:186] Compiled cluster using XLA!  This line is logged at most once for the lifetime of the process.\n"
     ]
    },
    {
     "name": "stdout",
     "output_type": "stream",
     "text": [
      "426/426 [==============================] - 14s 19ms/step - loss: 2.3339 - val_loss: 3.1701\n",
      "Epoch 2/100\n",
      "426/426 [==============================] - 7s 16ms/step - loss: 1.9535 - val_loss: 2.7816\n",
      "Epoch 3/100\n",
      "426/426 [==============================] - 6s 15ms/step - loss: 1.8377 - val_loss: 2.5658\n",
      "Epoch 4/100\n",
      "426/426 [==============================] - 6s 15ms/step - loss: 1.7339 - val_loss: 2.4190\n",
      "Epoch 5/100\n",
      "426/426 [==============================] - 6s 14ms/step - loss: 1.7072 - val_loss: 2.4069\n",
      "Epoch 6/100\n",
      "426/426 [==============================] - 6s 13ms/step - loss: 1.6882 - val_loss: 2.2614\n",
      "Epoch 7/100\n",
      "426/426 [==============================] - 6s 14ms/step - loss: 1.6533 - val_loss: 2.2537\n",
      "Epoch 8/100\n",
      "426/426 [==============================] - 6s 14ms/step - loss: 1.6051 - val_loss: 2.1011\n",
      "Epoch 9/100\n",
      "426/426 [==============================] - 6s 14ms/step - loss: 1.6346 - val_loss: 2.0982\n",
      "Epoch 10/100\n",
      "426/426 [==============================] - 6s 14ms/step - loss: 1.5508 - val_loss: 2.0599\n",
      "Epoch 11/100\n",
      "426/426 [==============================] - 5s 13ms/step - loss: 1.5545 - val_loss: 2.0369\n",
      "Epoch 12/100\n",
      "426/426 [==============================] - 6s 15ms/step - loss: 1.5127 - val_loss: 2.0314\n",
      "Epoch 13/100\n",
      "426/426 [==============================] - 7s 15ms/step - loss: 1.4943 - val_loss: 2.0703\n",
      "Epoch 14/100\n",
      "426/426 [==============================] - 6s 14ms/step - loss: 1.4770 - val_loss: 2.1405\n",
      "Epoch 15/100\n",
      "426/426 [==============================] - 6s 14ms/step - loss: 1.4838 - val_loss: 2.0979\n",
      "Epoch 16/100\n",
      "426/426 [==============================] - 6s 15ms/step - loss: 1.4677 - val_loss: 1.9547\n",
      "Epoch 17/100\n",
      "426/426 [==============================] - 6s 14ms/step - loss: 1.4675 - val_loss: 2.0612\n",
      "Epoch 18/100\n",
      "426/426 [==============================] - 6s 14ms/step - loss: 1.4688 - val_loss: 1.9325\n",
      "Epoch 19/100\n",
      "426/426 [==============================] - 6s 14ms/step - loss: 1.4457 - val_loss: 2.0205\n",
      "Epoch 20/100\n",
      "426/426 [==============================] - 6s 15ms/step - loss: 1.4549 - val_loss: 1.9225\n",
      "Epoch 21/100\n",
      "426/426 [==============================] - 6s 15ms/step - loss: 1.4132 - val_loss: 1.8841\n",
      "Epoch 22/100\n",
      "426/426 [==============================] - 6s 15ms/step - loss: 1.4262 - val_loss: 1.8283\n",
      "Epoch 23/100\n",
      "426/426 [==============================] - 6s 14ms/step - loss: 1.3771 - val_loss: 1.8222\n",
      "Epoch 24/100\n",
      "426/426 [==============================] - 6s 14ms/step - loss: 1.3555 - val_loss: 1.9294\n",
      "Epoch 25/100\n",
      "426/426 [==============================] - 6s 15ms/step - loss: 1.3656 - val_loss: 1.9933\n",
      "Epoch 26/100\n",
      "426/426 [==============================] - 6s 15ms/step - loss: 1.3683 - val_loss: 1.9238\n",
      "Epoch 27/100\n",
      "426/426 [==============================] - 6s 14ms/step - loss: 1.3822 - val_loss: 1.8563\n",
      "Epoch 28/100\n",
      "426/426 [==============================] - 6s 14ms/step - loss: 1.3566 - val_loss: 1.8910\n",
      "Training took 179.44 seconds.\n"
     ]
    }
   ],
   "source": [
    "start_time = time.time()\n",
    "history = model.fit(\n",
    "    train_ds,\n",
    "    epochs=epochs,\n",
    "    validation_data=valid_ds,\n",
    "    callbacks=[tensorboard_callback, early_stopping],  # Include both callbacks in the list\n",
    ")\n",
    "#model.fit(train_ds, epochs=epochs, validation_data=valid_ds,callbacks=[tensorboard_callback],)\n",
    "# Stop the stopwatch and calculate the elapsed time\n",
    "elapsed_time = time.time() - start_time\n",
    "\n",
    "# Print or use the elapsed time\n",
    "print(f\"Training took {elapsed_time:.2f} seconds.\")"
   ]
  },
  {
   "cell_type": "code",
   "execution_count": 36,
   "id": "3e75b5a0-9c91-4496-913f-cc9d65e02aad",
   "metadata": {
    "tags": []
   },
   "outputs": [],
   "source": [
    "# save model\n",
    "model_path = './model/lstm_model.keras'  # Specifying the '.keras' extension\n",
    "model.save(model_path)"
   ]
  },
  {
   "cell_type": "code",
   "execution_count": 37,
   "id": "0d3dc288-2f1e-40ea-a561-c7df522ce474",
   "metadata": {
    "tags": []
   },
   "outputs": [
    {
     "data": {
      "image/png": "[encoded data removed]",
      "text/plain": [
       "<Figure size 1080x360 with 1 Axes>"
      ]
     },
     "metadata": {
      "needs_background": "light"
     },
     "output_type": "display_data"
    }
   ],
   "source": [
    "\n",
    "# Assuming 'mse' for training and 'val_mse' for validation are the correct keys\n",
    "loss = history.history['loss']  # Training MSE\n",
    "val_loss = history.history['val_loss']  # Validation MSE\n",
    "epochs = range(1, len(loss) + 1)  # Adjusting epoch count to start from 1\n",
    "\n",
    "# Plotting\n",
    "fig = plt.figure(figsize=(15, 5))\n",
    "ax = fig.add_subplot()\n",
    "ax.plot(epochs, loss, label='Training loss')\n",
    "ax.plot(epochs, val_loss, label='Validation loss')\n",
    "ax.set_title('Training and Validation loss')\n",
    "ax.set_xlabel('Epochs')\n",
    "ax.set_ylabel('Loss')\n",
    "ax.legend()\n",
    "\n",
    "plt.show()"
   ]
  },
  {
   "cell_type": "markdown",
   "id": "4a9ef567-8e5a-43be-831d-a7b11c3084bf",
   "metadata": {
    "tags": []
   },
   "source": [
    "Review model predictions"
   ]
  },
  {
   "cell_type": "code",
   "execution_count": 39,
   "id": "720b8054-d04a-4eb0-93bf-76f3df22a414",
   "metadata": {
    "tags": []
   },
   "outputs": [
    {
     "ename": "AttributeError",
     "evalue": "'_BatchDataset' object has no attribute 'shape'",
     "output_type": "error",
     "traceback": [
      "\u001b[0;31m---------------------------------------------------------------------------\u001b[0m",
      "\u001b[0;31mAttributeError\u001b[0m                            Traceback (most recent call last)",
      "Cell \u001b[0;32mIn[39], line 1\u001b[0m\n\u001b[0;32m----> 1\u001b[0m \u001b[43mvalid_ds\u001b[49m\u001b[38;5;241;43m.\u001b[39;49m\u001b[43mshape\u001b[49m\n",
      "\u001b[0;31mAttributeError\u001b[0m: '_BatchDataset' object has no attribute 'shape'"
     ]
    }
   ],
   "source": [
    "valid_ds.shape"
   ]
  },
  {
   "cell_type": "code",
   "execution_count": 40,
   "id": "b7ed05b3-b342-44ca-abf2-478746939856",
   "metadata": {},
   "outputs": [
    {
     "name": "stdout",
     "output_type": "stream",
     "text": [
      "107/107 [==============================] - 1s 5ms/step\n"
     ]
    }
   ],
   "source": [
    "predictions = model.predict(valid_ds)  # Adjust this if you need to predict on a specific subset"
   ]
  },
  {
   "cell_type": "code",
   "execution_count": 44,
   "id": "32f3f63f-648a-4309-8b20-8470b6362109",
   "metadata": {
    "tags": []
   },
   "outputs": [
    {
     "data": {
      "text/plain": [
       "tensorflow.python.data.ops.batch_op._BatchDataset"
      ]
     },
     "execution_count": 44,
     "metadata": {},
     "output_type": "execute_result"
    }
   ],
   "source": [
    "type(valid_ds)"
   ]
  },
  {
   "cell_type": "code",
   "execution_count": 45,
   "id": "42bb88db-648c-419c-945f-69ec8ef4ee36",
   "metadata": {
    "tags": []
   },
   "outputs": [
    {
     "data": {
      "text/plain": [
       "(3405, 24, 4)"
      ]
     },
     "execution_count": 45,
     "metadata": {},
     "output_type": "execute_result"
    }
   ],
   "source": [
    "xt_valid.shape"
   ]
  },
  {
   "cell_type": "code",
   "execution_count": 48,
   "id": "1e2be662-c323-468b-a6c0-356ca23f56b4",
   "metadata": {
    "tags": []
   },
   "outputs": [
    {
     "data": {
      "text/plain": [
       "array([[ 0.32597324,  0.17041741,  0.32597324,  0.17041741],\n",
       "       [ 0.60705299,  0.28107976,  0.60705299,  0.28107976],\n",
       "       [ 0.85707848,  0.25002548,  0.85707848,  0.25002548],\n",
       "       [ 0.72407652, -0.13300196,  0.72407652, -0.13300196],\n",
       "       [ 0.89640499,  0.17232847,  0.89640499,  0.17232847],\n",
       "       [ 0.97451403,  0.07810904,  0.97451403,  0.07810904],\n",
       "       [ 0.86571264, -0.10880139,  0.86571264, -0.10880139],\n",
       "       [ 0.84448217, -0.02123047,  0.84448217, -0.02123047],\n",
       "       [ 0.84973504,  0.00525288,  0.84973504,  0.00525288],\n",
       "       [ 0.62915166, -0.22058338,  0.62915166, -0.22058338],\n",
       "       [ 0.52462665, -0.10452501,  0.52462665, -0.10452501],\n",
       "       [ 0.28363623, -0.24099041,  0.28363623, -0.24099041],\n",
       "       [ 0.23978037, -0.04385587,  0.23978037, -0.04385587],\n",
       "       [ 0.22255682, -0.01722355,  0.22255682, -0.01722355],\n",
       "       [ 0.23170773,  0.00915091,  0.23170773,  0.00915091],\n",
       "       [ 0.20678879, -0.02491894,  0.20678879, -0.02491894],\n",
       "       [ 0.20983229,  0.0030435 ,  0.20983229,  0.0030435 ],\n",
       "       [ 0.15986258, -0.04996971,  0.15986258, -0.04996971],\n",
       "       [ 0.15469525, -0.00516733,  0.15469525, -0.00516733],\n",
       "       [ 0.13037697, -0.02431828,  0.13037697, -0.02431828],\n",
       "       [ 0.10776095, -0.02261601,  0.10776095, -0.02261601],\n",
       "       [ 0.08798244, -0.01977851,  0.08798244, -0.01977851],\n",
       "       [ 0.11821391,  0.03023147,  0.11821391,  0.03023147],\n",
       "       [ 0.23971553,  0.12150162,  0.23971553,  0.12150162]])"
      ]
     },
     "execution_count": 48,
     "metadata": {},
     "output_type": "execute_result"
    }
   ],
   "source": [
    "xt_valid[0,:,:]"
   ]
  },
  {
   "cell_type": "code",
   "execution_count": 42,
   "id": "18865b77-8591-4b8a-b047-e74cf525daba",
   "metadata": {
    "tags": []
   },
   "outputs": [
    {
     "data": {
      "text/plain": [
       "(3405, 6, 2)"
      ]
     },
     "execution_count": 42,
     "metadata": {},
     "output_type": "execute_result"
    }
   ],
   "source": [
    "predictions.shape"
   ]
  },
  {
   "cell_type": "code",
   "execution_count": 53,
   "id": "cfe66336-0cd4-4e86-a4a5-001ef4094cfe",
   "metadata": {
    "tags": []
   },
   "outputs": [
    {
     "data": {
      "text/plain": [
       "<matplotlib.legend.Legend at 0x7fde58618e20>"
      ]
     },
     "execution_count": 53,
     "metadata": {},
     "output_type": "execute_result"
    },
    {
     "data": {
      "image/png": "[encoded data removed]",
      "text/plain": [
       "<Figure size 1080x720 with 1 Axes>"
      ]
     },
     "metadata": {
      "needs_background": "light"
     },
     "output_type": "display_data"
    }
   ],
   "source": [
    "feature_indices = [0, 2]\n",
    "\n",
    "# Extract the last time step data from x_valid for these two features\n",
    "# We use [:, -1, feature_index] to get the last time step for all samples for each feature\n",
    "actual_series_1 = xt_valid[:, -1, feature_indices[0]]\n",
    "actual_series_2 = xt_valid[:, -1, feature_indices[1]]\n",
    "\n",
    "# Extract corresponding predictions; assuming the predictions are in the same order\n",
    "# We take all data points for each series; adjust if your layout is different\n",
    "predicted_series_1 = predictions[:, :, 0].flatten()  # Flatten if you want a continuous line\n",
    "predicted_series_2 = predictions[:, :, 1].flatten()\n",
    "\n",
    "# Plotting\n",
    "plt.figure(figsize=(15, 10))\n",
    "\n",
    "# Plotting for the first series\n",
    "plt.subplot(2, 1, 1)  # 2 rows, 1 column, 1st subplot\n",
    "plt.plot(actual_series_1, label='Actual Series 1', marker='o')\n",
    "#plt.plot(predicted_series_1, label='Predicted Series 1', marker='x')\n",
    "plt.title('Actual vs Predicted for Series 1')\n",
    "plt.legend()"
   ]
  },
  {
   "cell_type": "code",
   "execution_count": 51,
   "id": "14b75e6a-f0b4-4a49-ab51-b614484192a3",
   "metadata": {
    "tags": []
   },
   "outputs": [
    {
     "data": {
      "text/plain": [
       "array([0.23971553, 0.49118304, 0.90209074, 1.06001968, 1.03308827,\n",
       "       0.87644806, 0.91977226, 1.1481537 , 1.33972486, 1.06402333,\n",
       "       1.02744979, 0.44557878, 0.24108594, 0.28155165, 0.26108082])"
      ]
     },
     "execution_count": 51,
     "metadata": {},
     "output_type": "execute_result"
    }
   ],
   "source": [
    "actual_series_1[:15]"
   ]
  },
  {
   "cell_type": "code",
   "execution_count": 52,
   "id": "a670473e-1e5f-46a3-8cc3-51f916992f08",
   "metadata": {
    "tags": []
   },
   "outputs": [
    {
     "data": {
      "text/plain": [
       "array([0.40217215, 0.4822147 , 0.5637546 , 0.6392021 , 0.8006946 ,\n",
       "       0.85857654, 0.49724865, 0.57694507, 0.64807403, 0.7061906 ,\n",
       "       0.83499676, 0.8909936 , 0.7042841 , 0.75017196, 0.7950394 ],\n",
       "      dtype=float32)"
      ]
     },
     "execution_count": 52,
     "metadata": {},
     "output_type": "execute_result"
    }
   ],
   "source": [
    "predicted_series_1[:15]"
   ]
  },
  {
   "cell_type": "code",
   "execution_count": 58,
   "id": "914455ea-a9f6-4175-8c61-e35ac6d78249",
   "metadata": {
    "tags": []
   },
   "outputs": [
    {
     "data": {
      "image/png": "[encoded data removed]",
      "text/plain": [
       "<Figure size 1080x360 with 1 Axes>"
      ]
     },
     "metadata": {
      "needs_background": "light"
     },
     "output_type": "display_data"
    }
   ],
   "source": [
    "\n",
    "# Constants\n",
    "HOURS_IN_WEEK = 168\n",
    "START_HOUR = 6  # Starting from 6 hours before the week for the first prediction context\n",
    "PRED_INTERVAL = 6\n",
    "FORECAST_LENGTH = 6\n",
    "\n",
    "# Sample data extraction\n",
    "# Extract one week of actuals starting from 'START_HOUR'\n",
    "actual_data = xt_valid[START_HOUR:START_HOUR + HOURS_IN_WEEK, -1, 0]  # Adjust the last index if using another feature\n",
    "\n",
    "# Create a time axis for actual data\n",
    "time_actual = np.arange(START_HOUR, START_HOUR + HOURS_IN_WEEK)\n",
    "\n",
    "# Prepare the plot\n",
    "plt.figure(figsize=(15, 5))\n",
    "plt.plot(time_actual, actual_data, label='Actual Data', marker='o')\n",
    "\n",
    "# Plotting predictions made every 6 hours\n",
    "for i in range(0, HOURS_IN_WEEK, PRED_INTERVAL):\n",
    "    # Prediction start and end points\n",
    "    pred_start = START_HOUR + i #+ HOURS_IN_WEEK\n",
    "    pred_end = pred_start + FORECAST_LENGTH\n",
    "    \n",
    "#     print('pred_start',pred_start)\n",
    "#     print('pred_end',pred_end)\n",
    "    \n",
    "    # Time axis for predictions\n",
    "    time_pred = np.arange(pred_start, pred_end)\n",
    "    \n",
    "    # Extract predictions (reshape if necessary and select the correct indices)\n",
    "    predictions_plot = predictions[i//PRED_INTERVAL, :, 0].flatten()  # Adjust the index for different series\n",
    "    \n",
    "    # Plot predictions\n",
    "    plt.plot(time_pred, predictions_plot, label=f'Prediction from {pred_start}', linestyle='--')\n",
    "\n",
    "# Configurations for better visualization\n",
    "plt.title('Actuals and Predictions Over One Week')\n",
    "plt.xlabel('Hour of the Month')\n",
    "plt.ylabel('Series Value')\n",
    "#plt.legend()\n",
    "plt.grid(True)\n",
    "plt.show()"
   ]
  },
  {
   "cell_type": "code",
   "execution_count": null,
   "id": "95a76c63-373f-4f3c-9e8a-d909d71ab9ae",
   "metadata": {},
   "outputs": [],
   "source": []
  }
 ],
 "metadata": {
  "kernelspec": {
   "display_name": "Python 3 (ipykernel)",
   "language": "python",
   "name": "python3"
  },
  "language_info": {
   "codemirror_mode": {
    "name": "ipython",
    "version": 3
   },
   "file_extension": ".py",
   "mimetype": "text/x-python",
   "name": "python",
   "nbconvert_exporter": "python",
   "pygments_lexer": "ipython3",
   "version": "3.10.13"
  }
 },
 "nbformat": 4,
 "nbformat_minor": 5
}
