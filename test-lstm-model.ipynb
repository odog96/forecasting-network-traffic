{
 "cells": [
  {
   "cell_type": "code",
   "execution_count": 1,
   "id": "60beda06-7725-449b-8aae-36505b5d291a",
   "metadata": {
    "tags": []
   },
   "outputs": [
    {
     "name": "stderr",
     "output_type": "stream",
     "text": [
      "2024-05-09 22:53:15.834910: E tensorflow/compiler/xla/stream_executor/cuda/cuda_dnn.cc:9342] Unable to register cuDNN factory: Attempting to register factory for plugin cuDNN when one has already been registered\n",
      "2024-05-09 22:53:15.834953: E tensorflow/compiler/xla/stream_executor/cuda/cuda_fft.cc:609] Unable to register cuFFT factory: Attempting to register factory for plugin cuFFT when one has already been registered\n",
      "2024-05-09 22:53:15.834978: E tensorflow/compiler/xla/stream_executor/cuda/cuda_blas.cc:1518] Unable to register cuBLAS factory: Attempting to register factory for plugin cuBLAS when one has already been registered\n",
      "2024-05-09 22:53:15.917270: I tensorflow/core/platform/cpu_feature_guard.cc:182] This TensorFlow binary is optimized to use available CPU instructions in performance-critical operations.\n",
      "To enable the following instructions: AVX2 AVX512F FMA, in other operations, rebuild TensorFlow with the appropriate compiler flags.\n",
      "2024-05-09 22:53:27.391245: W tensorflow/compiler/tf2tensorrt/utils/py_utils.cc:38] TF-TRT Warning: Could not find TensorRT\n"
     ]
    }
   ],
   "source": [
    "import pandas as pd\n",
    "import numpy as np\n",
    "import json\n",
    "import seaborn as sns\n",
    "import matplotlib.pyplot as plt\n",
    "\n",
    "import tensorflow as tf\n",
    "from tensorflow.keras.models import Sequential, Model\n",
    "from tensorflow.keras.layers import LSTM, Dense ,Input, LSTM, Concatenate, Dropout\n",
    "from tensorflow.keras.callbacks import EarlyStopping\n",
    "from tensorflow.keras.models import load_model\n",
    "\n",
    "\n",
    "from sklearn.preprocessing import StandardScaler\n",
    "from sklearn.model_selection import train_test_split\n",
    "\n",
    "import joblib"
   ]
  },
  {
   "cell_type": "code",
   "execution_count": 2,
   "id": "bc3b4458-6238-4499-83dd-4d288a6f8e95",
   "metadata": {},
   "outputs": [],
   "source": [
    "window = 24\n",
    "horizon = 6"
   ]
  },
  {
   "cell_type": "code",
   "execution_count": 3,
   "id": "eebb5cb2-9b32-41f6-acff-dfe25a5f8183",
   "metadata": {},
   "outputs": [],
   "source": [
    "df = pd.read_csv('data/netstats_hourly_4_3.csv')"
   ]
  },
  {
   "cell_type": "markdown",
   "id": "b9018df4-84e4-411b-b5dd-6e65ebdef566",
   "metadata": {},
   "source": [
    "**Load Artifacts**"
   ]
  },
  {
   "cell_type": "code",
   "execution_count": 4,
   "id": "4532bbd1-7fc9-415a-a18f-1d1ac49cc58b",
   "metadata": {
    "tags": []
   },
   "outputs": [],
   "source": [
    "# using root mean square error to punish model more heavily for missing spikes\n",
    "def rmse(y_true, y_pred):\n",
    "    return tf.sqrt(tf.reduce_mean(tf.square(y_true - y_pred)))"
   ]
  },
  {
   "cell_type": "code",
   "execution_count": 5,
   "id": "086c3d7f-e89a-470a-bc5d-aa80654d8057",
   "metadata": {},
   "outputs": [],
   "source": [
    "model_path = './model/lstm_model.keras' \n",
    "\n",
    "model = load_model(model_path, custom_objects={'rmse': rmse})\n",
    "\n",
    "# Load the saved OneHotEncoder fit object\n",
    "ohefit = joblib.load('./model/ohefit.save')"
   ]
  },
  {
   "cell_type": "code",
   "execution_count": 6,
   "id": "04478273-69ad-4c17-9363-ee1b6593ba7f",
   "metadata": {},
   "outputs": [],
   "source": [
    "def feature_create(df_in):\n",
    "    df = df_in.copy()\n",
    "    \n",
    "    df.loc[:,'link_loc'] = df['link'] + \"_\" + df['location']\n",
    "    \n",
    "    df['rx_gbs'] = pd.to_numeric(df['rx_gbs'], errors='coerce')\n",
    "    df['tx_gbs'] = pd.to_numeric(df['tx_gbs'], errors='coerce')\n",
    "    \n",
    "    df['rx_gbs_delta'] = df.groupby('link_loc')['rx_gbs'].diff()\n",
    "\n",
    "    # Calculate tx_bytes_delta_delta\n",
    "    df['tx_gbs_delta'] = df.groupby('link_loc')['tx_gbs'].diff()\n",
    "\n",
    "    # The first delta_delta value for each site_host group will be NaN because there's no previous value to subtract from.\n",
    "    # You might want to fill these NaN values depending on your requirements, for example, with 0s:\n",
    "    df['rx_gbs_delta'] = df['rx_gbs_delta'].fillna(0)\n",
    "    df['tx_gbs_delta'] = df['tx_gbs_delta'].fillna(0)\n",
    "    \n",
    "    # ensure 'time' is a datetime64 type\n",
    "    df['time'] = pd.to_datetime(df['time'])\n",
    "\n",
    "    # Extract hour of day\n",
    "    df['hour_of_day'] = df['time'].dt.hour\n",
    "\n",
    "    # Extract day of the week (Monday=0, Sunday=6)\n",
    "    df['day_of_week'] = df['time'].dt.dayofweek\n",
    "    \n",
    "        # Encode 'hour_of_day' cyclically\n",
    "    df['hour_sin'] = np.sin(2 * np.pi * df['hour_of_day']/24)\n",
    "    df['hour_cos'] = np.cos(2 * np.pi * df['hour_of_day']/24)\n",
    "\n",
    "    # Encode 'day_of_week' cyclically\n",
    "    df['day_sin'] = np.sin(2 * np.pi * df['day_of_week']/7)\n",
    "    df['day_cos'] = np.cos(2 * np.pi * df['day_of_week']/7)\n",
    "        \n",
    "    df.drop(columns=['hour_of_day','day_of_week'],inplace=True)\n",
    "\n",
    "    # Transform the new data using the loaded OneHotEncoder fit object\n",
    "    new_data_encoded = ohefit.transform(df[['link', 'location']])\n",
    "    df_encoded = pd.concat([df,new_data_encoded],axis = 1).drop(columns= ['link', 'location','link_loc'])\n",
    "    \n",
    "    #ensure df is sorted by time \n",
    "    df_encoded.sort_values(by=['time'],ascending=True,inplace=True)\n",
    "  \n",
    "    # scale\n",
    "    #features_to_scale = [col for col in df_encoded.columns if 'delta' in col]\n",
    "    # Transform the selected columns using the loaded StandardScaler\n",
    "    #df_encoded[features_to_scale] = scaler.transform(df_encoded[features_to_scale])\n",
    "    \n",
    "    # Temporal features, ensure you pass just number of observations equal to window\n",
    "    temporal_features = df_encoded[['rx_gbs', 'rx_gbs_delta', 'tx_gbs', 'tx_gbs_delta']].tail(window).values\n",
    "    temporal_features = temporal_features.reshape(1, window, 4)  # Reshaping to match the input shape expected by the LSTM\n",
    "\n",
    "    # Non-temporal features (one-hot encoded site and host)\n",
    "    non_temporal_features_list = [col for col in df_encoded.columns if 'link' in col or 'location' in col]\n",
    "\n",
    "    # Select the last row for non-temporal features and reshape\n",
    "    non_temporal_features = df_encoded[non_temporal_features_list].iloc[-1].values\n",
    "    non_temporal_features = non_temporal_features.reshape(1, -1)  # Reshaping to 1 row, with columns inferred\n",
    "\n",
    "    # Semi-temporal features\n",
    "    semi_temporal_features = df_encoded[['hour_sin', 'hour_cos', 'day_sin', 'day_cos']].iloc[-1].values\n",
    "    semi_temporal_features = semi_temporal_features.reshape(1, 4)  # Reshaping to match the expected input shape\n",
    "    \n",
    "    del(df)\n",
    "    del(df_encoded)\n",
    "    \n",
    "    return temporal_features, non_temporal_features, semi_temporal_features"
   ]
  },
  {
   "cell_type": "markdown",
   "id": "2fdcfb6a-f6e9-4044-948f-3751ed4a7528",
   "metadata": {},
   "source": [
    "Pick a random link / location"
   ]
  },
  {
   "cell_type": "code",
   "execution_count": 7,
   "id": "fd626ad9-652e-48a9-a2c7-057753c28f0d",
   "metadata": {},
   "outputs": [
    {
     "name": "stderr",
     "output_type": "stream",
     "text": [
      "/tmp/ipykernel_839/168212917.py:7: SettingWithCopyWarning: \n",
      "A value is trying to be set on a copy of a slice from a DataFrame\n",
      "\n",
      "See the caveats in the documentation: https://pandas.pydata.org/pandas-docs/stable/user_guide/indexing.html#returning-a-view-versus-a-copy\n",
      "  test_df.sort_values(by=['time'],inplace=True)\n"
     ]
    }
   ],
   "source": [
    "sample_df = df[['link','location']].drop_duplicates().sample()\n",
    "link_pick = sample_df['link'].values[0]\n",
    "location_pick = sample_df['location'].values[0]\n",
    "\n",
    "# test_df has only one combintation  of link_pick and location_pick\n",
    "test_df = df[(df.link == link_pick) & (df.location == location_pick)]\n",
    "test_df.sort_values(by=['time'],inplace=True)\n",
    "\n",
    "# pick a random segment of size window + 1\n",
    "start_row = np.random.randint(0, len(test_df) - (window+1))\n",
    "random_segment = df.iloc[start_row:start_row + (window+1)]"
   ]
  },
  {
   "cell_type": "code",
   "execution_count": 8,
   "id": "4158e884-376e-4029-8a9c-40d8871b7abc",
   "metadata": {},
   "outputs": [
    {
     "name": "stdout",
     "output_type": "stream",
     "text": [
      "1/1 [==============================] - 0s 405ms/step\n"
     ]
    }
   ],
   "source": [
    "temporal_features, non_temporal_features, semi_temporal_features = feature_create(random_segment)\n",
    "\n",
    "# Combine into a list for prediction as the model expects\n",
    "model_input = [temporal_features, non_temporal_features, semi_temporal_features]\n",
    "\n",
    "\n",
    "prediction = model.predict(model_input)"
   ]
  },
  {
   "cell_type": "code",
   "execution_count": 9,
   "id": "7a59b295-dc9a-424d-80df-e41d15b73334",
   "metadata": {
    "tags": []
   },
   "outputs": [
    {
     "data": {
      "text/plain": [
       "array([[[14.540914 , -0.696883 ],\n",
       "        [12.542822 , -1.6714047],\n",
       "        [ 9.879547 , -2.334466 ],\n",
       "        [ 6.973678 , -2.5771434],\n",
       "        [ 4.6453276, -2.242193 ],\n",
       "        [ 2.9436607, -1.8395052]]], dtype=float32)"
      ]
     },
     "execution_count": 9,
     "metadata": {},
     "output_type": "execute_result"
    }
   ],
   "source": [
    "prediction"
   ]
  },
  {
   "cell_type": "code",
   "execution_count": 15,
   "id": "2c26751c-a59c-4eef-a024-90d38ec4a6d5",
   "metadata": {
    "tags": []
   },
   "outputs": [
    {
     "data": {
      "text/plain": [
       "(1, 6, 2)"
      ]
     },
     "execution_count": 15,
     "metadata": {},
     "output_type": "execute_result"
    }
   ],
   "source": [
    "prediction.shape"
   ]
  },
  {
   "cell_type": "code",
   "execution_count": 10,
   "id": "714ac9c3-1021-4b8e-992a-ba3c7c6d81cc",
   "metadata": {
    "tags": []
   },
   "outputs": [
    {
     "data": {
      "text/plain": [
       "[[14.540913581848145,\n",
       "  12.542821884155273,\n",
       "  9.879547119140625,\n",
       "  6.973678112030029,\n",
       "  4.645327568054199,\n",
       "  2.9436607360839844]]"
      ]
     },
     "execution_count": 10,
     "metadata": {},
     "output_type": "execute_result"
    }
   ],
   "source": [
    "prediction[:, :,0].tolist()"
   ]
  },
  {
   "cell_type": "code",
   "execution_count": 11,
   "id": "93fb2735-9812-4356-86d9-d409c4233d6d",
   "metadata": {
    "tags": []
   },
   "outputs": [
    {
     "data": {
      "text/plain": [
       "array([[14.540914 , -0.696883 ],\n",
       "       [12.542822 , -1.6714047],\n",
       "       [ 9.879547 , -2.334466 ],\n",
       "       [ 6.973678 , -2.5771434],\n",
       "       [ 4.6453276, -2.242193 ],\n",
       "       [ 2.9436607, -1.8395052]], dtype=float32)"
      ]
     },
     "execution_count": 11,
     "metadata": {},
     "output_type": "execute_result"
    }
   ],
   "source": [
    "prediction.reshape(6,2)"
   ]
  },
  {
   "cell_type": "code",
   "execution_count": 12,
   "id": "1ad852a3-14da-4e9e-a7a7-9d6c1da323ff",
   "metadata": {
    "tags": []
   },
   "outputs": [],
   "source": [
    "from sklearn.metrics import root_mean_squared_error"
   ]
  },
  {
   "cell_type": "code",
   "execution_count": 13,
   "id": "077a9d9a-4a05-4950-9328-ec485a1fa833",
   "metadata": {
    "tags": []
   },
   "outputs": [],
   "source": [
    "actuals = random_array = np.random.rand(6, 2)"
   ]
  },
  {
   "cell_type": "code",
   "execution_count": 14,
   "id": "3d5d8038-fd68-4cf5-802b-ac1d79045acb",
   "metadata": {
    "tags": []
   },
   "outputs": [
    {
     "data": {
      "text/plain": [
       "array([[0.154385  , 0.072896  ],\n",
       "       [0.76268352, 0.67854077],\n",
       "       [0.33468818, 0.79431822],\n",
       "       [0.13507733, 0.79170452],\n",
       "       [0.44860849, 0.74289053],\n",
       "       [0.88491224, 0.28844935]])"
      ]
     },
     "execution_count": 14,
     "metadata": {},
     "output_type": "execute_result"
    }
   ],
   "source": [
    "actuals"
   ]
  },
  {
   "cell_type": "code",
   "execution_count": 15,
   "id": "383e13c8-bfc2-4a34-ab77-5d9fa09f0581",
   "metadata": {
    "tags": []
   },
   "outputs": [
    {
     "data": {
      "text/plain": [
       "5.891349550530071"
      ]
     },
     "execution_count": 15,
     "metadata": {},
     "output_type": "execute_result"
    }
   ],
   "source": [
    "root_mean_squared_error(actuals, prediction.reshape(6,2))"
   ]
  },
  {
   "cell_type": "code",
   "execution_count": null,
   "id": "892e87a7-c263-4503-baa3-94c507e48cf7",
   "metadata": {},
   "outputs": [],
   "source": []
  },
  {
   "cell_type": "code",
   "execution_count": 31,
   "id": "81570f13-08c4-4b3e-891a-a190b1cbc157",
   "metadata": {
    "tags": []
   },
   "outputs": [
    {
     "data": {
      "text/plain": [
       "[0.40420058369636536,\n",
       " 0.45891812443733215,\n",
       " 0.49683326482772827,\n",
       " 0.4980129599571228,\n",
       " 0.528127908706665,\n",
       " 0.5192015171051025]"
      ]
     },
     "execution_count": 31,
     "metadata": {},
     "output_type": "execute_result"
    }
   ],
   "source": [
    "prediction.reshape((6,2))[:,0].tolist()"
   ]
  },
  {
   "cell_type": "code",
   "execution_count": null,
   "id": "c035c525-e45b-4801-a21e-6d7275359e6d",
   "metadata": {},
   "outputs": [],
   "source": []
  }
 ],
 "metadata": {
  "kernelspec": {
   "display_name": "Python 3 (ipykernel)",
   "language": "python",
   "name": "python3"
  },
  "language_info": {
   "codemirror_mode": {
    "name": "ipython",
    "version": 3
   },
   "file_extension": ".py",
   "mimetype": "text/x-python",
   "name": "python",
   "nbconvert_exporter": "python",
   "pygments_lexer": "ipython3",
   "version": "3.10.13"
  }
 },
 "nbformat": 4,
 "nbformat_minor": 5
}
