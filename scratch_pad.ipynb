{
 "cells": [
  {
   "cell_type": "code",
   "execution_count": 15,
   "id": "81fdd75b-a991-4076-a130-b64c775a2bd9",
   "metadata": {
    "tags": []
   },
   "outputs": [],
   "source": [
    "import pandas as pd\n",
    "import numpy as np\n",
    "from sklearn.metrics import root_mean_squared_error\n",
    "\n",
    "#import time\n",
    "import cdsw\n",
    "import cmlapi\n",
    "import os\n",
    "import json, requests"
   ]
  },
  {
   "cell_type": "code",
   "execution_count": 2,
   "id": "2fcbb125-61df-4912-8e45-410d100a9082",
   "metadata": {
    "tags": []
   },
   "outputs": [],
   "source": [
    "window = 24\n",
    "horizon = 6"
   ]
  },
  {
   "cell_type": "markdown",
   "id": "34774649-0338-474e-878e-aac9d13887de",
   "metadata": {},
   "source": [
    "# simulating get predictions"
   ]
  },
  {
   "cell_type": "code",
   "execution_count": 33,
   "id": "f2609615-da84-478a-81f1-192a36e04e48",
   "metadata": {
    "tags": []
   },
   "outputs": [],
   "source": [
    "df = pd.read_csv('data/simple_synthetic_data.csv')"
   ]
  },
  {
   "cell_type": "code",
   "execution_count": 34,
   "id": "6ca23f84-19aa-4bcc-ad04-6686889b8d17",
   "metadata": {
    "tags": []
   },
   "outputs": [],
   "source": [
    "#df['time'] = pd.to_datetime(df['time'])"
   ]
  },
  {
   "cell_type": "code",
   "execution_count": 35,
   "id": "9d06b94b-8604-4bd0-99ae-03a9d7f64257",
   "metadata": {
    "tags": []
   },
   "outputs": [
    {
     "data": {
      "text/html": [
       "<div>\n",
       "<style scoped>\n",
       "    .dataframe tbody tr th:only-of-type {\n",
       "        vertical-align: middle;\n",
       "    }\n",
       "\n",
       "    .dataframe tbody tr th {\n",
       "        vertical-align: top;\n",
       "    }\n",
       "\n",
       "    .dataframe thead th {\n",
       "        text-align: right;\n",
       "    }\n",
       "</style>\n",
       "<table border=\"1\" class=\"dataframe\">\n",
       "  <thead>\n",
       "    <tr style=\"text-align: right;\">\n",
       "      <th></th>\n",
       "      <th>link</th>\n",
       "      <th>location</th>\n",
       "      <th>time</th>\n",
       "      <th>rx_gbs</th>\n",
       "      <th>tx_gbs</th>\n",
       "    </tr>\n",
       "  </thead>\n",
       "  <tbody>\n",
       "    <tr>\n",
       "      <th>0</th>\n",
       "      <td>Verizon</td>\n",
       "      <td>US-DA3</td>\n",
       "      <td>2024-05-01 00:00:00</td>\n",
       "      <td>2.465220</td>\n",
       "      <td>9.689268</td>\n",
       "    </tr>\n",
       "    <tr>\n",
       "      <th>1</th>\n",
       "      <td>Verizon</td>\n",
       "      <td>US-DA3</td>\n",
       "      <td>2024-05-01 01:00:00</td>\n",
       "      <td>2.280575</td>\n",
       "      <td>11.636575</td>\n",
       "    </tr>\n",
       "    <tr>\n",
       "      <th>2</th>\n",
       "      <td>Verizon</td>\n",
       "      <td>US-DA3</td>\n",
       "      <td>2024-05-01 02:00:00</td>\n",
       "      <td>1.702963</td>\n",
       "      <td>3.688097</td>\n",
       "    </tr>\n",
       "    <tr>\n",
       "      <th>3</th>\n",
       "      <td>Verizon</td>\n",
       "      <td>US-DA3</td>\n",
       "      <td>2024-05-01 03:00:00</td>\n",
       "      <td>1.565919</td>\n",
       "      <td>10.631742</td>\n",
       "    </tr>\n",
       "    <tr>\n",
       "      <th>4</th>\n",
       "      <td>Verizon</td>\n",
       "      <td>US-DA3</td>\n",
       "      <td>2024-05-01 04:00:00</td>\n",
       "      <td>0.976097</td>\n",
       "      <td>4.585088</td>\n",
       "    </tr>\n",
       "  </tbody>\n",
       "</table>\n",
       "</div>"
      ],
      "text/plain": [
       "      link location                 time    rx_gbs     tx_gbs\n",
       "0  Verizon   US-DA3  2024-05-01 00:00:00  2.465220   9.689268\n",
       "1  Verizon   US-DA3  2024-05-01 01:00:00  2.280575  11.636575\n",
       "2  Verizon   US-DA3  2024-05-01 02:00:00  1.702963   3.688097\n",
       "3  Verizon   US-DA3  2024-05-01 03:00:00  1.565919  10.631742\n",
       "4  Verizon   US-DA3  2024-05-01 04:00:00  0.976097   4.585088"
      ]
     },
     "execution_count": 35,
     "metadata": {},
     "output_type": "execute_result"
    }
   ],
   "source": [
    "df.head()"
   ]
  },
  {
   "cell_type": "code",
   "execution_count": 36,
   "id": "065f1fae-19f4-40ae-91d1-f76d6164c0e7",
   "metadata": {},
   "outputs": [],
   "source": [
    "# function(s)\n",
    "def dataframe_to_json(df):\n",
    "    \"\"\"Create a dictionary that will later be converted to a JSON object\n",
    "    ensure that \n",
    "    \"\"\"\n",
    "    data = {\n",
    "        'rx_gbs': df['rx_gbs'].iloc[-(window+1):].tolist(),\n",
    "        'tx_gbs': df['tx_gbs'].iloc[-(window+1):].tolist(),\n",
    "        'time': [df['time'].iloc[-1]],  # Only the last time entry\n",
    "        'link': [df['link'].iloc[-1]],  # Only the last link entry\n",
    "        'location': [df['location'].iloc[-1]]  # Only the last location entry\n",
    "    }\n",
    "    \n",
    "    # build embedded dictionary step 1\n",
    "    request_dict = {\"request\":data}\n",
    "\n",
    "    # access key will be end point specific\n",
    "    BackDict = {\"accessKey\":model_key}\n",
    "    BackDict.update(request_dict)\n",
    "    request_dict=BackDict\n",
    "    \n",
    "    return request_dict"
   ]
  },
  {
   "cell_type": "code",
   "execution_count": 37,
   "id": "1ad021da-23d7-4b14-bd71-442949f5dba6",
   "metadata": {},
   "outputs": [],
   "source": [
    "# model parameter configuration\n",
    "model_name = \"lstm-test2\"\n",
    "project_name = 'ibm_poc'\n",
    "client = cmlapi.default_client(url=os.getenv(\"CDSW_API_URL\").replace(\"/api/v1\", \"\"), cml_api_key=os.getenv(\"CDSW_APIV2_KEY\"))\n",
    "target_model = client.list_all_models(search_filter=json.dumps({\"name\": model_name}))\n",
    "model_key = target_model.models[0].access_key\n",
    "model_url = os.getenv(\"CDSW_API_URL\").replace(\"https://\", \"https://modelservice.\").replace(\"/api/v1\", \"/model\")\n",
    "\n",
    "# lines below get at the most recent deployment of the model to get deployment crn\n",
    "proj_id = client.list_projects(search_filter=json.dumps({\"name\":project_name })).projects[0].id\n",
    "mod_id = target_model.models[0].id\n",
    "build_list = client.list_model_builds(project_id = proj_id, model_id = mod_id,sort='created_at')\n",
    "build_id = build_list.model_builds[-1].id\n",
    "model_deployments = client.list_model_deployments(project_id=proj_id,model_id=mod_id,build_id=build_id)\n",
    "cr_number = model_deployments.model_deployments[0].crn"
   ]
  },
  {
   "cell_type": "code",
   "execution_count": 38,
   "id": "aa3e2c16-ed33-4178-867c-d3a118c41d98",
   "metadata": {},
   "outputs": [],
   "source": [
    "stride = 12        # determines frequecy of model inference\n",
    "                   # how many observations between forecast requests\n",
    "load_frequency = 2 # ratio of number of observations between load jobs\n",
    "                   # number of observations between forecast requests\n",
    "                   # e.g., ground truth job every 24 hours, forecast request every 12, therefore load_frequency is 2 \n",
    "#load_lag = 1       # number of observation sets to load each load\n",
    "                   # this will determine heap size\n",
    "    \n",
    "m_window = 10      # monitoring window size \n",
    "    "
   ]
  },
  {
   "cell_type": "code",
   "execution_count": 39,
   "id": "ef5b0d3c-d0cd-416b-874a-a2914e61c1de",
   "metadata": {},
   "outputs": [],
   "source": [
    "# pick a segmentabs\n",
    "# create a future ts \n",
    "# match that future ts with existing ts 'time'field"
   ]
  },
  {
   "cell_type": "code",
   "execution_count": 40,
   "id": "fb4986a8-45bd-49d2-be44-20646b6b3db7",
   "metadata": {},
   "outputs": [
    {
     "name": "stdout",
     "output_type": "stream",
     "text": [
      "      link location\n",
      "0  Verizon   US-DA3\n"
     ]
    }
   ],
   "source": [
    "sample_df = df[['link','location']].drop_duplicates().sample()\n",
    "link_pick = sample_df['link'].values[0]\n",
    "location_pick = sample_df['location'].values[0]\n",
    "print(sample_df)"
   ]
  },
  {
   "cell_type": "code",
   "execution_count": 41,
   "id": "5e8acf72-aa1f-45d8-b17e-4785404d30f7",
   "metadata": {},
   "outputs": [],
   "source": [
    "# test_df has only one combintation  of link_pick and location_pick\n",
    "test_df = df[(df.link == link_pick) & (df.location == location_pick)]"
   ]
  },
  {
   "cell_type": "code",
   "execution_count": 42,
   "id": "d815574b-bb97-4f55-972a-08fc5b6f33e6",
   "metadata": {
    "tags": []
   },
   "outputs": [],
   "source": [
    "# pick a random segment of size window + 1\n",
    "start_row = np.random.randint(0, len(test_df) - (window+1))\n",
    "random_segment = df.iloc[start_row:start_row + (window+1)]"
   ]
  },
  {
   "cell_type": "code",
   "execution_count": 43,
   "id": "dabc385c-2b74-45d0-aa79-e8291426be0a",
   "metadata": {
    "tags": []
   },
   "outputs": [],
   "source": [
    "request_dict = dataframe_to_json(random_segment)"
   ]
  },
  {
   "cell_type": "code",
   "execution_count": null,
   "id": "3c0d791a-23da-4e3d-a2f8-131bbe641c45",
   "metadata": {
    "tags": []
   },
   "outputs": [],
   "source": []
  },
  {
   "cell_type": "code",
   "execution_count": 45,
   "id": "1f2393d7-7fe5-4438-9060-e80969040e23",
   "metadata": {
    "tags": []
   },
   "outputs": [],
   "source": [
    "r = requests.post(model_url, data=json.dumps(request_dict), headers={'Content-Type': 'application/json'})"
   ]
  },
  {
   "cell_type": "code",
   "execution_count": 46,
   "id": "d7605f3e-2052-4b3c-9194-57dab2297402",
   "metadata": {
    "tags": []
   },
   "outputs": [],
   "source": [
    "horizon_time = r.json()['response']['prediction']['time']"
   ]
  },
  {
   "cell_type": "code",
   "execution_count": 48,
   "id": "e062e2da-4be8-43d5-9fb7-1802b0fa9abb",
   "metadata": {
    "tags": []
   },
   "outputs": [
    {
     "data": {
      "text/plain": [
       "['2024-05-07T01:00:00',\n",
       " '2024-05-07T02:00:00',\n",
       " '2024-05-07T03:00:00',\n",
       " '2024-05-07T04:00:00',\n",
       " '2024-05-07T05:00:00',\n",
       " '2024-05-07T06:00:00']"
      ]
     },
     "execution_count": 48,
     "metadata": {},
     "output_type": "execute_result"
    }
   ],
   "source": [
    "horizon_time"
   ]
  },
  {
   "cell_type": "code",
   "execution_count": 49,
   "id": "4e771f88-e6c5-44ba-96ce-db64858a774d",
   "metadata": {
    "tags": []
   },
   "outputs": [
    {
     "data": {
      "text/plain": [
       "link         object\n",
       "location     object\n",
       "time         object\n",
       "rx_gbs      float64\n",
       "tx_gbs      float64\n",
       "dtype: object"
      ]
     },
     "execution_count": 49,
     "metadata": {},
     "output_type": "execute_result"
    }
   ],
   "source": [
    "df.dtypes"
   ]
  },
  {
   "cell_type": "code",
   "execution_count": 50,
   "id": "f79a830d-7cc7-4fd6-abef-316bfeacdf5c",
   "metadata": {
    "tags": []
   },
   "outputs": [],
   "source": [
    "times = [t.replace('T', ' ') for t in horizon_time]\n",
    "\n",
    "# Filter the DataFrame\n",
    "filtered_df = df[df['time'].isin(times)]\n"
   ]
  },
  {
   "cell_type": "code",
   "execution_count": 51,
   "id": "4bd66bfc-5450-4ca6-b7be-758a3e06427b",
   "metadata": {
    "tags": []
   },
   "outputs": [
    {
     "data": {
      "text/html": [
       "<div>\n",
       "<style scoped>\n",
       "    .dataframe tbody tr th:only-of-type {\n",
       "        vertical-align: middle;\n",
       "    }\n",
       "\n",
       "    .dataframe tbody tr th {\n",
       "        vertical-align: top;\n",
       "    }\n",
       "\n",
       "    .dataframe thead th {\n",
       "        text-align: right;\n",
       "    }\n",
       "</style>\n",
       "<table border=\"1\" class=\"dataframe\">\n",
       "  <thead>\n",
       "    <tr style=\"text-align: right;\">\n",
       "      <th></th>\n",
       "      <th>link</th>\n",
       "      <th>location</th>\n",
       "      <th>time</th>\n",
       "      <th>rx_gbs</th>\n",
       "      <th>tx_gbs</th>\n",
       "    </tr>\n",
       "  </thead>\n",
       "  <tbody>\n",
       "    <tr>\n",
       "      <th>145</th>\n",
       "      <td>Verizon</td>\n",
       "      <td>US-DA3</td>\n",
       "      <td>2024-05-07 01:00:00</td>\n",
       "      <td>6.484178</td>\n",
       "      <td>1.660921</td>\n",
       "    </tr>\n",
       "    <tr>\n",
       "      <th>146</th>\n",
       "      <td>Verizon</td>\n",
       "      <td>US-DA3</td>\n",
       "      <td>2024-05-07 02:00:00</td>\n",
       "      <td>0.571595</td>\n",
       "      <td>11.119694</td>\n",
       "    </tr>\n",
       "    <tr>\n",
       "      <th>147</th>\n",
       "      <td>Verizon</td>\n",
       "      <td>US-DA3</td>\n",
       "      <td>2024-05-07 03:00:00</td>\n",
       "      <td>8.352953</td>\n",
       "      <td>2.791839</td>\n",
       "    </tr>\n",
       "    <tr>\n",
       "      <th>148</th>\n",
       "      <td>Verizon</td>\n",
       "      <td>US-DA3</td>\n",
       "      <td>2024-05-07 04:00:00</td>\n",
       "      <td>0.743763</td>\n",
       "      <td>3.162689</td>\n",
       "    </tr>\n",
       "    <tr>\n",
       "      <th>149</th>\n",
       "      <td>Verizon</td>\n",
       "      <td>US-DA3</td>\n",
       "      <td>2024-05-07 05:00:00</td>\n",
       "      <td>2.153168</td>\n",
       "      <td>4.587800</td>\n",
       "    </tr>\n",
       "    <tr>\n",
       "      <th>150</th>\n",
       "      <td>Verizon</td>\n",
       "      <td>US-DA3</td>\n",
       "      <td>2024-05-07 06:00:00</td>\n",
       "      <td>11.490688</td>\n",
       "      <td>4.855042</td>\n",
       "    </tr>\n",
       "  </tbody>\n",
       "</table>\n",
       "</div>"
      ],
      "text/plain": [
       "        link location                 time     rx_gbs     tx_gbs\n",
       "145  Verizon   US-DA3  2024-05-07 01:00:00   6.484178   1.660921\n",
       "146  Verizon   US-DA3  2024-05-07 02:00:00   0.571595  11.119694\n",
       "147  Verizon   US-DA3  2024-05-07 03:00:00   8.352953   2.791839\n",
       "148  Verizon   US-DA3  2024-05-07 04:00:00   0.743763   3.162689\n",
       "149  Verizon   US-DA3  2024-05-07 05:00:00   2.153168   4.587800\n",
       "150  Verizon   US-DA3  2024-05-07 06:00:00  11.490688   4.855042"
      ]
     },
     "execution_count": 51,
     "metadata": {},
     "output_type": "execute_result"
    }
   ],
   "source": [
    "filtered_df"
   ]
  },
  {
   "cell_type": "code",
   "execution_count": 52,
   "id": "1586b320-36bc-45ae-8181-838df5167312",
   "metadata": {
    "tags": []
   },
   "outputs": [
    {
     "data": {
      "text/html": [
       "<div>\n",
       "<style scoped>\n",
       "    .dataframe tbody tr th:only-of-type {\n",
       "        vertical-align: middle;\n",
       "    }\n",
       "\n",
       "    .dataframe tbody tr th {\n",
       "        vertical-align: top;\n",
       "    }\n",
       "\n",
       "    .dataframe thead th {\n",
       "        text-align: right;\n",
       "    }\n",
       "</style>\n",
       "<table border=\"1\" class=\"dataframe\">\n",
       "  <thead>\n",
       "    <tr style=\"text-align: right;\">\n",
       "      <th></th>\n",
       "      <th>link</th>\n",
       "      <th>location</th>\n",
       "      <th>time</th>\n",
       "      <th>rx_gbs</th>\n",
       "      <th>tx_gbs</th>\n",
       "    </tr>\n",
       "  </thead>\n",
       "  <tbody>\n",
       "  </tbody>\n",
       "</table>\n",
       "</div>"
      ],
      "text/plain": [
       "Empty DataFrame\n",
       "Columns: [link, location, time, rx_gbs, tx_gbs]\n",
       "Index: []"
      ]
     },
     "execution_count": 52,
     "metadata": {},
     "output_type": "execute_result"
    }
   ],
   "source": [
    "df[df['time'].isin(horizon_time)]"
   ]
  },
  {
   "cell_type": "code",
   "execution_count": null,
   "id": "a8e3b245-b1fa-4551-a62a-e624bb6a478e",
   "metadata": {},
   "outputs": [],
   "source": []
  }
 ],
 "metadata": {
  "kernelspec": {
   "display_name": "Python 3 (ipykernel)",
   "language": "python",
   "name": "python3"
  },
  "language_info": {
   "codemirror_mode": {
    "name": "ipython",
    "version": 3
   },
   "file_extension": ".py",
   "mimetype": "text/x-python",
   "name": "python",
   "nbconvert_exporter": "python",
   "pygments_lexer": "ipython3",
   "version": "3.10.13"
  }
 },
 "nbformat": 4,
 "nbformat_minor": 5
}
