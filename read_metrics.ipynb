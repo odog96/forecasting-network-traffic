{
 "cells": [
  {
   "cell_type": "code",
   "execution_count": 1,
   "id": "027edcbf-d9c1-435d-8cdf-8ac6f2769f0f",
   "metadata": {
    "tags": []
   },
   "outputs": [],
   "source": [
    "import numpy as np\n",
    "import pandas as pd\n",
    "import time\n",
    "import cdsw\n",
    "import cmlapi\n",
    "import os\n",
    "import json"
   ]
  },
  {
   "cell_type": "code",
   "execution_count": 2,
   "id": "b50a3523-e42c-45a7-9652-684d45c6d36e",
   "metadata": {
    "tags": []
   },
   "outputs": [],
   "source": [
    "if os.environ.get(\"MODEL_NAME\") == \"\":\n",
    "    os.environ[\"MODEL_NAME\"] = \"lstm\"\n",
    "if os.environ.get(\"PROJECT_NAME\") == \"\":\n",
    "    os.environ[\"PROJECT_NAME\"] = \"SDWAN\""
   ]
  },
  {
   "cell_type": "code",
   "execution_count": 3,
   "id": "e6dceea9-523a-4593-81e4-fb1c11d4ff4a",
   "metadata": {
    "tags": []
   },
   "outputs": [],
   "source": [
    "# model_name = os.environ.get(\"MODEL_NAME\")\n",
    "# project_name = os.environ.get(\"PROJECT_NAME\")\n",
    "\n",
    "#model_name = \"lstm\"\n",
    "model_name = \"lstm-test\"\n",
    "project_name = \"SDWAN\"\n",
    "\n",
    "client = cmlapi.default_client(url=os.getenv(\"CDSW_API_URL\").replace(\"/api/v1\", \"\"), cml_api_key=os.getenv(\"CDSW_APIV2_KEY\"))\n",
    "target_model = client.list_all_models(search_filter=json.dumps({\"name\": model_name}))\n",
    "\n",
    "proj_id = client.list_projects(search_filter=json.dumps({\"name\":project_name })).projects[0].id\n",
    "\n",
    "mod_id = target_model.models[0].id\n",
    "\n",
    "build_list = client.list_model_builds(project_id = proj_id, model_id = mod_id,sort='created_at')\n",
    "\n",
    "build_id = build_list.model_builds[-1].id\n",
    "model_deployments = client.list_model_deployments(project_id=proj_id,model_id=mod_id,build_id=build_id)\n",
    "cr_number = model_deployments.model_deployments[0].crn"
   ]
  },
  {
   "cell_type": "code",
   "execution_count": 7,
   "id": "2aa93ffc-0ee6-41f9-a799-8762f38ac15e",
   "metadata": {
    "tags": []
   },
   "outputs": [],
   "source": [
    "# write a function to print variable crn\n",
    "metrics = cdsw.read_metrics(model_deployment_crn=cr_number,dev=False)"
   ]
  },
  {
   "cell_type": "code",
   "execution_count": 23,
   "id": "5c05b76c-4926-4b97-99c2-a7fd793d3e31",
   "metadata": {
    "tags": []
   },
   "outputs": [
    {
     "data": {
      "text/plain": [
       "{'modelDeploymentCrn': 'crn:cdp:ml:us-west-1:558bc1d2-8867-4357-8524-311d51259233:workspace:55da5a39-10bf-48bc-8d2c-6436308fdff9/282b596f-0f63-46e3-97df-45c9886d071a',\n",
       " 'modelBuildCrn': 'crn:cdp:ml:us-west-1:558bc1d2-8867-4357-8524-311d51259233:workspace:55da5a39-10bf-48bc-8d2c-6436308fdff9/013ee7ed-697c-4c47-bd09-df4da963b82a',\n",
       " 'modelCrn': 'crn:cdp:ml:us-west-1:558bc1d2-8867-4357-8524-311d51259233:workspace:55da5a39-10bf-48bc-8d2c-6436308fdff9/b5ef7e5d-3ef2-464d-b9b7-245383ece40e',\n",
       " 'startTimeStampMs': 1715887221756,\n",
       " 'endTimeStampMs': 1715887222489,\n",
       " 'predictionUuid': '22bc560a-a5a7-44b2-bdd7-0679aa28fec7',\n",
       " 'metrics': {'final_rx_gbs_label': [9.315300445,\n",
       "   1.493328951,\n",
       "   1.798052112,\n",
       "   0.862901636,\n",
       "   2.699306281,\n",
       "   9.293342977],\n",
       "  'final_tx_gbs_label': [2.575881772,\n",
       "   10.520229461,\n",
       "   2.379724223,\n",
       "   9.006671892,\n",
       "   11.488075298,\n",
       "   10.179279896],\n",
       "  'forecast time': ['2024-05-09T01:00:00',\n",
       "   '2024-05-09T02:00:00',\n",
       "   '2024-05-09T03:00:00',\n",
       "   '2024-05-09T04:00:00',\n",
       "   '2024-05-09T05:00:00',\n",
       "   '2024-05-09T06:00:00'],\n",
       "  'input_rx_data': [1.112246832,\n",
       "   9.711008288,\n",
       "   0.6623837619999999,\n",
       "   1.05802475,\n",
       "   0.634898289,\n",
       "   0.6600547170000001,\n",
       "   0.862325287,\n",
       "   10.373740566,\n",
       "   4.31947513,\n",
       "   0.508248036,\n",
       "   5.926018752,\n",
       "   7.276533541,\n",
       "   5.266899200999999,\n",
       "   9.057585291,\n",
       "   2.113284999,\n",
       "   9.077116635,\n",
       "   1.168673135,\n",
       "   1.184432444,\n",
       "   1.91969816,\n",
       "   7.36415431,\n",
       "   9.066635257,\n",
       "   1.518432094,\n",
       "   1.631298112,\n",
       "   0.116991471,\n",
       "   8.218065348],\n",
       "  'input_tx_data': [9.404738398,\n",
       "   3.386650789,\n",
       "   7.865282364,\n",
       "   1.655461957,\n",
       "   5.543103768,\n",
       "   14.283415862,\n",
       "   4.506221367,\n",
       "   10.547742901,\n",
       "   5.78582701,\n",
       "   6.571057653,\n",
       "   1.409721851,\n",
       "   9.673763572,\n",
       "   8.253141402,\n",
       "   5.565648002,\n",
       "   8.301991522,\n",
       "   4.438445756,\n",
       "   2.2887049790000003,\n",
       "   10.077396915,\n",
       "   4.521214756,\n",
       "   3.921220621,\n",
       "   4.659446378,\n",
       "   4.585088454,\n",
       "   4.587799848,\n",
       "   1.722119761,\n",
       "   2.165056752],\n",
       "  'rx bytes prediction': [8.110048294067383,\n",
       "   8.211255073547363,\n",
       "   8.001846313476562,\n",
       "   7.816500186920166,\n",
       "   7.543331146240234,\n",
       "   6.865537643432617],\n",
       "  'tx bytes prediction': [1.2351782321929932,\n",
       "   0.39260414242744446,\n",
       "   0.03036740981042385,\n",
       "   0.058931831270456314,\n",
       "   -0.11122176796197891,\n",
       "   -0.9552184343338013]}}"
      ]
     },
     "execution_count": 23,
     "metadata": {},
     "output_type": "execute_result"
    }
   ],
   "source": [
    "metrics['metrics'][1]"
   ]
  },
  {
   "cell_type": "code",
   "execution_count": 8,
   "id": "29e14bf8-52cd-4827-99ef-d30c2111fc37",
   "metadata": {},
   "outputs": [],
   "source": [
    "performance_metrics = []\n",
    "core_metrics = []\n",
    "for item in metrics['metrics']:\n",
    "    if len(item['metrics'].keys()) < 5:\n",
    "         performance_metrics.append(item['metrics'])\n",
    "    else:\n",
    "        core_metrics.append(item['metrics'])"
   ]
  },
  {
   "cell_type": "code",
   "execution_count": 9,
   "id": "12b0ac00-7431-44c9-8d1b-7b151a0dd9b9",
   "metadata": {
    "tags": []
   },
   "outputs": [
    {
     "data": {
      "text/plain": [
       "59"
      ]
     },
     "execution_count": 9,
     "metadata": {},
     "output_type": "execute_result"
    }
   ],
   "source": [
    "len(core_metrics)"
   ]
  },
  {
   "cell_type": "code",
   "execution_count": 10,
   "id": "99992aec-8a36-49ae-8a16-fa400e5941a7",
   "metadata": {
    "tags": []
   },
   "outputs": [],
   "source": [
    "#core_metrics[0]"
   ]
  },
  {
   "cell_type": "code",
   "execution_count": 11,
   "id": "d530e3fe-c35c-4a23-af4b-761e25138d39",
   "metadata": {
    "tags": []
   },
   "outputs": [],
   "source": [
    "metrics_df = pd.json_normalize(core_metrics)"
   ]
  },
  {
   "cell_type": "code",
   "execution_count": 16,
   "id": "09d0aa91-3860-4111-ba37-60df8b0998f0",
   "metadata": {
    "tags": []
   },
   "outputs": [
    {
     "data": {
      "text/html": [
       "<div>\n",
       "<style scoped>\n",
       "    .dataframe tbody tr th:only-of-type {\n",
       "        vertical-align: middle;\n",
       "    }\n",
       "\n",
       "    .dataframe tbody tr th {\n",
       "        vertical-align: top;\n",
       "    }\n",
       "\n",
       "    .dataframe thead th {\n",
       "        text-align: right;\n",
       "    }\n",
       "</style>\n",
       "<table border=\"1\" class=\"dataframe\">\n",
       "  <thead>\n",
       "    <tr style=\"text-align: right;\">\n",
       "      <th></th>\n",
       "      <th>final_rx_gbs_label</th>\n",
       "      <th>final_tx_gbs_label</th>\n",
       "      <th>forecast time</th>\n",
       "      <th>input_rx_data</th>\n",
       "      <th>input_tx_data</th>\n",
       "      <th>rx bytes prediction</th>\n",
       "      <th>tx bytes prediction</th>\n",
       "    </tr>\n",
       "  </thead>\n",
       "  <tbody>\n",
       "    <tr>\n",
       "      <th>54</th>\n",
       "      <td>[1.411229685, 1.305595741, 1.413211706, 10.531...</td>\n",
       "      <td>[10.606051833, 5.167073481, 2.53719506, 9.0066...</td>\n",
       "      <td>[2024-05-13T01:00:00, 2024-05-13T02:00:00, 202...</td>\n",
       "      <td>[1.273866347, 1.342958131, 8.140159838, 1.9908...</td>\n",
       "      <td>[4.014604812, 1.955984192, 2.886702137, 2.7588...</td>\n",
       "      <td>[0.8348015546798706, 0.8849822282791138, 0.918...</td>\n",
       "      <td>[0.057432450354099274, 0.0744861513376236, 0.0...</td>\n",
       "    </tr>\n",
       "    <tr>\n",
       "      <th>55</th>\n",
       "      <td>[1.094988562, 0.889843661, 3.747575266, 1.7418...</td>\n",
       "      <td>[1.43889315, 4.661999297, 11.812364196, 5.2579...</td>\n",
       "      <td>[2024-05-02T01:00:00, 2024-05-02T02:00:00, 202...</td>\n",
       "      <td>[2.465220145, 2.280574848, 1.70296266, 1.56591...</td>\n",
       "      <td>[9.689268193, 11.636575472, 3.688097012, 10.63...</td>\n",
       "      <td>[0.6253072023391724, 0.688372015953064, 0.7331...</td>\n",
       "      <td>[0.08840098977088928, 0.0815410241484642, 0.07...</td>\n",
       "    </tr>\n",
       "    <tr>\n",
       "      <th>56</th>\n",
       "      <td>[4.123924896, 9.623044791, 6.396868241, 1.7796...</td>\n",
       "      <td>[3.808545758, 2.429849325, 4.201446881, 3.0185...</td>\n",
       "      <td>[2024-05-17T01:00:00, 2024-05-17T02:00:00, 202...</td>\n",
       "      <td>[1.646113664, 0.567956557, 4.123836151, 2.1252...</td>\n",
       "      <td>[4.163275395, 2.391207379, 10.021471138, 5.015...</td>\n",
       "      <td>[0.5600473880767822, 0.614625096321106, 0.6599...</td>\n",
       "      <td>[0.06582796573638916, 0.06737610697746277, 0.0...</td>\n",
       "    </tr>\n",
       "    <tr>\n",
       "      <th>57</th>\n",
       "      <td>[9.711008288, 0.6623837619999999, 1.05802475, ...</td>\n",
       "      <td>[3.386650789, 7.865282364, 1.655461957, 5.5431...</td>\n",
       "      <td>[2024-05-08T01:00:00, 2024-05-08T02:00:00, 202...</td>\n",
       "      <td>[1.017495761, 6.484177698, 0.571594764, 8.3529...</td>\n",
       "      <td>[11.23759017, 1.6609205299999998, 11.11969373,...</td>\n",
       "      <td>[0.5358205437660217, 0.6750768423080444, 0.809...</td>\n",
       "      <td>[0.12858328223228455, 0.15729646384716034, 0.1...</td>\n",
       "    </tr>\n",
       "    <tr>\n",
       "      <th>58</th>\n",
       "      <td>[0.567956557, 4.123836151, 2.125209277, 1.0186...</td>\n",
       "      <td>[2.391207379, 10.021471138, 5.015414073, 3.850...</td>\n",
       "      <td>[2024-05-16T01:00:00, 2024-05-16T02:00:00, 202...</td>\n",
       "      <td>[1.290738923, 3.540820261, 0.855667453, 3.8402...</td>\n",
       "      <td>[2.422788214, 4.430113012, 4.592582602, 13.240...</td>\n",
       "      <td>[0.4909769892692566, 0.6044356226921082, 0.665...</td>\n",
       "      <td>[0.0815158262848854, 0.09619943797588348, 0.11...</td>\n",
       "    </tr>\n",
       "  </tbody>\n",
       "</table>\n",
       "</div>"
      ],
      "text/plain": [
       "                                   final_rx_gbs_label  \\\n",
       "54  [1.411229685, 1.305595741, 1.413211706, 10.531...   \n",
       "55  [1.094988562, 0.889843661, 3.747575266, 1.7418...   \n",
       "56  [4.123924896, 9.623044791, 6.396868241, 1.7796...   \n",
       "57  [9.711008288, 0.6623837619999999, 1.05802475, ...   \n",
       "58  [0.567956557, 4.123836151, 2.125209277, 1.0186...   \n",
       "\n",
       "                                   final_tx_gbs_label  \\\n",
       "54  [10.606051833, 5.167073481, 2.53719506, 9.0066...   \n",
       "55  [1.43889315, 4.661999297, 11.812364196, 5.2579...   \n",
       "56  [3.808545758, 2.429849325, 4.201446881, 3.0185...   \n",
       "57  [3.386650789, 7.865282364, 1.655461957, 5.5431...   \n",
       "58  [2.391207379, 10.021471138, 5.015414073, 3.850...   \n",
       "\n",
       "                                        forecast time  \\\n",
       "54  [2024-05-13T01:00:00, 2024-05-13T02:00:00, 202...   \n",
       "55  [2024-05-02T01:00:00, 2024-05-02T02:00:00, 202...   \n",
       "56  [2024-05-17T01:00:00, 2024-05-17T02:00:00, 202...   \n",
       "57  [2024-05-08T01:00:00, 2024-05-08T02:00:00, 202...   \n",
       "58  [2024-05-16T01:00:00, 2024-05-16T02:00:00, 202...   \n",
       "\n",
       "                                        input_rx_data  \\\n",
       "54  [1.273866347, 1.342958131, 8.140159838, 1.9908...   \n",
       "55  [2.465220145, 2.280574848, 1.70296266, 1.56591...   \n",
       "56  [1.646113664, 0.567956557, 4.123836151, 2.1252...   \n",
       "57  [1.017495761, 6.484177698, 0.571594764, 8.3529...   \n",
       "58  [1.290738923, 3.540820261, 0.855667453, 3.8402...   \n",
       "\n",
       "                                        input_tx_data  \\\n",
       "54  [4.014604812, 1.955984192, 2.886702137, 2.7588...   \n",
       "55  [9.689268193, 11.636575472, 3.688097012, 10.63...   \n",
       "56  [4.163275395, 2.391207379, 10.021471138, 5.015...   \n",
       "57  [11.23759017, 1.6609205299999998, 11.11969373,...   \n",
       "58  [2.422788214, 4.430113012, 4.592582602, 13.240...   \n",
       "\n",
       "                                  rx bytes prediction  \\\n",
       "54  [0.8348015546798706, 0.8849822282791138, 0.918...   \n",
       "55  [0.6253072023391724, 0.688372015953064, 0.7331...   \n",
       "56  [0.5600473880767822, 0.614625096321106, 0.6599...   \n",
       "57  [0.5358205437660217, 0.6750768423080444, 0.809...   \n",
       "58  [0.4909769892692566, 0.6044356226921082, 0.665...   \n",
       "\n",
       "                                  tx bytes prediction  \n",
       "54  [0.057432450354099274, 0.0744861513376236, 0.0...  \n",
       "55  [0.08840098977088928, 0.0815410241484642, 0.07...  \n",
       "56  [0.06582796573638916, 0.06737610697746277, 0.0...  \n",
       "57  [0.12858328223228455, 0.15729646384716034, 0.1...  \n",
       "58  [0.0815158262848854, 0.09619943797588348, 0.11...  "
      ]
     },
     "execution_count": 16,
     "metadata": {},
     "output_type": "execute_result"
    }
   ],
   "source": [
    "metrics_df.tail()"
   ]
  },
  {
   "cell_type": "code",
   "execution_count": 15,
   "id": "7ff9e227-0c43-4c05-8cbc-7a2f2af73ed0",
   "metadata": {
    "tags": []
   },
   "outputs": [
    {
     "data": {
      "text/plain": [
       "final_rx_gbs_label     1\n",
       "final_tx_gbs_label     1\n",
       "forecast time          0\n",
       "input_rx_data          0\n",
       "input_tx_data          0\n",
       "rx bytes prediction    0\n",
       "tx bytes prediction    0\n",
       "dtype: int64"
      ]
     },
     "execution_count": 15,
     "metadata": {},
     "output_type": "execute_result"
    }
   ],
   "source": [
    "metrics_df.isnull().sum()"
   ]
  },
  {
   "cell_type": "code",
   "execution_count": 19,
   "id": "efec5456-6c6d-47dd-a0c8-17bce40dc74e",
   "metadata": {
    "tags": []
   },
   "outputs": [
    {
     "data": {
      "text/html": [
       "<div>\n",
       "<style scoped>\n",
       "    .dataframe tbody tr th:only-of-type {\n",
       "        vertical-align: middle;\n",
       "    }\n",
       "\n",
       "    .dataframe tbody tr th {\n",
       "        vertical-align: top;\n",
       "    }\n",
       "\n",
       "    .dataframe thead th {\n",
       "        text-align: right;\n",
       "    }\n",
       "</style>\n",
       "<table border=\"1\" class=\"dataframe\">\n",
       "  <thead>\n",
       "    <tr style=\"text-align: right;\">\n",
       "      <th></th>\n",
       "      <th>final_rx_gbs_label</th>\n",
       "      <th>final_tx_gbs_label</th>\n",
       "      <th>forecast time</th>\n",
       "      <th>input_rx_data</th>\n",
       "      <th>input_tx_data</th>\n",
       "      <th>rx bytes prediction</th>\n",
       "      <th>tx bytes prediction</th>\n",
       "    </tr>\n",
       "  </thead>\n",
       "  <tbody>\n",
       "    <tr>\n",
       "      <th>27</th>\n",
       "      <td>NaN</td>\n",
       "      <td>NaN</td>\n",
       "      <td>[2024-05-31T01:00:00, 2024-05-31T02:00:00, 202...</td>\n",
       "      <td>[9.142250296, 11.37641808, 1.391518371, 1.6188...</td>\n",
       "      <td>[13.741614516, 1.444370114, 4.774979732, 11.43...</td>\n",
       "      <td>[0.4038369059562683, 0.4840385317802429, 0.551...</td>\n",
       "      <td>[0.10492565482854843, 0.09039974957704544, 0.1...</td>\n",
       "    </tr>\n",
       "  </tbody>\n",
       "</table>\n",
       "</div>"
      ],
      "text/plain": [
       "   final_rx_gbs_label final_tx_gbs_label  \\\n",
       "27                NaN                NaN   \n",
       "\n",
       "                                        forecast time  \\\n",
       "27  [2024-05-31T01:00:00, 2024-05-31T02:00:00, 202...   \n",
       "\n",
       "                                        input_rx_data  \\\n",
       "27  [9.142250296, 11.37641808, 1.391518371, 1.6188...   \n",
       "\n",
       "                                        input_tx_data  \\\n",
       "27  [13.741614516, 1.444370114, 4.774979732, 11.43...   \n",
       "\n",
       "                                  rx bytes prediction  \\\n",
       "27  [0.4038369059562683, 0.4840385317802429, 0.551...   \n",
       "\n",
       "                                  tx bytes prediction  \n",
       "27  [0.10492565482854843, 0.09039974957704544, 0.1...  "
      ]
     },
     "execution_count": 19,
     "metadata": {},
     "output_type": "execute_result"
    }
   ],
   "source": [
    "metrics_df[metrics_df.isna().any(axis=1)]"
   ]
  },
  {
   "cell_type": "code",
   "execution_count": null,
   "id": "c2924dd4-269e-410b-beed-fbe939a273e6",
   "metadata": {},
   "outputs": [],
   "source": []
  }
 ],
 "metadata": {
  "kernelspec": {
   "display_name": "Python 3 (ipykernel)",
   "language": "python",
   "name": "python3"
  },
  "language_info": {
   "codemirror_mode": {
    "name": "ipython",
    "version": 3
   },
   "file_extension": ".py",
   "mimetype": "text/x-python",
   "name": "python",
   "nbconvert_exporter": "python",
   "pygments_lexer": "ipython3",
   "version": "3.10.13"
  }
 },
 "nbformat": 4,
 "nbformat_minor": 5
}
