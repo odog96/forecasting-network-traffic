{
 "cells": [
  {
   "cell_type": "code",
   "execution_count": 1,
   "id": "c41ab0d0-41a4-4283-ac41-91b1cff84119",
   "metadata": {
    "tags": []
   },
   "outputs": [],
   "source": [
    "import numpy as np\n",
    "import json, requests\n",
    "import pandas as pd\n",
    "import random\n",
    "import cmlapi\n",
    "import cdsw\n",
    "import os\n",
    "import time\n",
    "from sklearn.metrics import root_mean_squared_error"
   ]
  },
  {
   "cell_type": "code",
   "execution_count": 2,
   "id": "35e5cd06-7382-4f8e-b7f5-c93a3efdba47",
   "metadata": {
    "tags": []
   },
   "outputs": [],
   "source": [
    "import uuid"
   ]
  },
  {
   "cell_type": "code",
   "execution_count": 3,
   "id": "95e11ad8-2051-48ee-a498-171c50f49bb7",
   "metadata": {
    "tags": []
   },
   "outputs": [],
   "source": [
    "\n",
    "# this will be run as a job \n",
    "\n",
    "# if os.environ.get(\"MODEL_NAME\") == \"\":\n",
    "#     os.environ[\"MODEL_NAME\"] = \"lstm\"\n",
    "# if os.environ.get(\"PROJECT_NAME\") == \"\":\n",
    "#     os.environ[\"PROJECT_NAME\"] = \"SDWAN\"\n",
    "    \n",
    "window = 24\n",
    "\n",
    "# function(s)\n",
    "def dataframe_to_json(df):\n",
    "    \"\"\"Create a dictionary that will later be converted to a JSON object\n",
    "    ensure that \n",
    "    \"\"\"\n",
    "    data = {\n",
    "        'rx_gbs': df['rx_gbs'].iloc[-(window+1):].tolist(),\n",
    "        'tx_gbs': df['tx_gbs'].iloc[-(window+1):].tolist(),\n",
    "        'time': [df['time'].iloc[-1]],  # Only the last time entry\n",
    "        'link': [df['link'].iloc[-1]],  # Only the last link entry\n",
    "        'location': [df['location'].iloc[-1]]  # Only the last location entry\n",
    "    }\n",
    "    \n",
    "    # build embedded dictionary step 1\n",
    "    request_dict = {\"request\":data}\n",
    "\n",
    "    # access key will be end point specific\n",
    "    BackDict = {\"accessKey\":model_key}\n",
    "    BackDict.update(request_dict)\n",
    "    request_dict=BackDict\n",
    "    \n",
    "    return request_dict\n",
    "\n",
    "# read data frame (or table data)\n",
    "df = pd.read_csv('data/simple_synthetic_data.csv')\n",
    "\n",
    "# sort data by time \n",
    "df.sort_values(by=['time'],inplace=True)"
   ]
  },
  {
   "cell_type": "code",
   "execution_count": 4,
   "id": "1995ea2c-1911-479a-aca3-4776c9b7eaae",
   "metadata": {
    "tags": []
   },
   "outputs": [
    {
     "data": {
      "text/plain": [
       "(721, 5)"
      ]
     },
     "execution_count": 4,
     "metadata": {},
     "output_type": "execute_result"
    }
   ],
   "source": [
    "df.shape"
   ]
  },
  {
   "cell_type": "code",
   "execution_count": 5,
   "id": "d3937085-d93d-4441-bde7-3bde594c7cdb",
   "metadata": {
    "tags": []
   },
   "outputs": [],
   "source": [
    "##########################################################################\n",
    "### CML Model API \n",
    "# model parameter configuration\n",
    "model_name = \"LSTM-2\"\n",
    "#os.environ[\"MODEL_NAME\"]\n",
    "project_name = \"SDWAN\"\n",
    "#os.environ[\"PROJECT_NAME\"]\n",
    "client = cmlapi.default_client(url=os.getenv(\"CDSW_API_URL\").replace(\"/api/v1\", \"\"), cml_api_key=os.getenv(\"CDSW_APIV2_KEY\"))\n",
    "target_model = client.list_all_models(search_filter=json.dumps({\"name\": model_name}))\n",
    "model_key = target_model.models[0].access_key\n",
    "model_url = os.getenv(\"CDSW_API_URL\").replace(\"https://\", \"https://modelservice.\").replace(\"/api/v1\", \"/model\")\n",
    "\n",
    "# lines below get at the most recent deployment of the model to get deployment crn\n",
    "proj_id = client.list_projects(search_filter=json.dumps({\"name\":project_name })).projects[0].id\n",
    "mod_id = target_model.models[0].id\n",
    "build_list = client.list_model_builds(project_id = proj_id, model_id = mod_id,sort='created_at')\n",
    "build_id = build_list.model_builds[-1].id\n",
    "model_deployments = client.list_model_deployments(project_id=proj_id,model_id=mod_id,build_id=build_id)\n",
    "cr_number = model_deployments.model_deployments[0].crn\n",
    "##########################################################################"
   ]
  },
  {
   "cell_type": "code",
   "execution_count": 8,
   "id": "b3b936a2-60b7-486a-8713-6973fa2c849c",
   "metadata": {
    "tags": []
   },
   "outputs": [],
   "source": [
    "job_name = 'check_model'"
   ]
  },
  {
   "cell_type": "code",
   "execution_count": 9,
   "id": "fb9cbccf-a873-4373-8381-b03784dd4364",
   "metadata": {
    "tags": []
   },
   "outputs": [],
   "source": [
    "target_job = client.list_jobs(proj_id, search_filter=json.dumps({\"name\": job_name}))"
   ]
  },
  {
   "cell_type": "code",
   "execution_count": 10,
   "id": "77e70843-7bec-4cc7-8b04-500e6635bfe0",
   "metadata": {
    "tags": []
   },
   "outputs": [
    {
     "data": {
      "text/plain": [
       "'y3he-t8ld-281f-qwdz'"
      ]
     },
     "execution_count": 10,
     "metadata": {},
     "output_type": "execute_result"
    }
   ],
   "source": [
    "target_job.jobs[0].id"
   ]
  },
  {
   "cell_type": "code",
   "execution_count": 13,
   "id": "33961172-62ac-4d34-b01d-68707185ede5",
   "metadata": {
    "tags": []
   },
   "outputs": [],
   "source": [
    "job_run = client.create_job_run(\n",
    "            cmlapi.CreateJobRunRequest(),\n",
    "            project_id = proj_id, \n",
    "            job_id = target_job.jobs[0].id\n",
    "            )"
   ]
  },
  {
   "cell_type": "code",
   "execution_count": 7,
   "id": "44d456b5-9171-4e90-851b-49550310b9ad",
   "metadata": {
    "tags": []
   },
   "outputs": [],
   "source": [
    "horizon = 6"
   ]
  },
  {
   "cell_type": "code",
   "execution_count": 119,
   "id": "cfeb8152-c49e-42f9-b840-af27419ed0b0",
   "metadata": {
    "tags": []
   },
   "outputs": [],
   "source": [
    "\n",
    "\n",
    "stride = 12        # determines frequecy of model inference\n",
    "                   # how many observations between forecast requests\n",
    "load_frequency = 2 # ratio of number of observations between load jobs\n",
    "                   # number of observations between forecast requests\n",
    "                   # e.g., ground truth job every 24 hours, forecast request every 12, therefore load_frequency is 2 \n",
    "#load_lag = 1       # number of observation sets to load each load\n",
    "                   # this will determine heap size\n",
    "    \n",
    "m_window = 10      # monitoring window size \n",
    "\n",
    "# code below slides through new data"
   ]
  },
  {
   "cell_type": "code",
   "execution_count": 120,
   "id": "4d54ae2a-ec77-49df-aee0-5564fc64d7fe",
   "metadata": {
    "tags": []
   },
   "outputs": [],
   "source": [
    "# offset = horizon + (df.shape[0]-horizon)%window"
   ]
  },
  {
   "cell_type": "code",
   "execution_count": null,
   "id": "edd95259-712b-48c9-865e-efb9d0a739ab",
   "metadata": {
    "tags": []
   },
   "outputs": [],
   "source": []
  },
  {
   "cell_type": "code",
   "execution_count": 121,
   "id": "7af5f045-0c2d-4cf5-97e3-a9451d396e04",
   "metadata": {
    "tags": []
   },
   "outputs": [],
   "source": [
    "# #for j,i in enumerate(range(0,df.shape[0]-(window),stride)):\n",
    "# for j,i in enumerate(range(0,df.shape[0]-(horizon) - (offset),stride)):\n",
    "# #for j,i in enumerate(range(0,df.shape[0]-(horizon)-(window),stride)):\n",
    "#     temp_df = df.iloc[i:window+1+i,:] # \n",
    "#     #print(i)\n",
    "#     # convert input to json"
   ]
  },
  {
   "cell_type": "code",
   "execution_count": 122,
   "id": "0a06cc4e-c2d8-4067-b9f7-ef353c6470df",
   "metadata": {
    "tags": []
   },
   "outputs": [
    {
     "name": "stdout",
     "output_type": "stream",
     "text": [
      "This is the last iteration 684\n"
     ]
    }
   ],
   "source": [
    "for j,i in enumerate(range(0,df.shape[0]-(horizon)-(window),stride)):\n",
    "    temp_df = df.iloc[i:window+1+i,:] # \n",
    "    if j == len(range(0, df.shape[0] - (horizon)-(window), stride)) - 1:\n",
    "        print(\"This is the last iteration\",i)"
   ]
  },
  {
   "cell_type": "code",
   "execution_count": 123,
   "id": "2e149694-c701-4a90-9196-83062c6254a7",
   "metadata": {
    "tags": []
   },
   "outputs": [
    {
     "data": {
      "text/plain": [
       "691"
      ]
     },
     "execution_count": 123,
     "metadata": {},
     "output_type": "execute_result"
    }
   ],
   "source": [
    "df.shape[0]-(horizon)-(window)"
   ]
  },
  {
   "cell_type": "code",
   "execution_count": 124,
   "id": "63ee289c-218f-4e66-baf9-4a2468f9777e",
   "metadata": {
    "tags": []
   },
   "outputs": [
    {
     "data": {
      "text/plain": [
       "684"
      ]
     },
     "execution_count": 124,
     "metadata": {},
     "output_type": "execute_result"
    }
   ],
   "source": [
    "(691//12)*12"
   ]
  },
  {
   "cell_type": "code",
   "execution_count": 125,
   "id": "7aed5321-75c8-4024-86c9-90baf7893e70",
   "metadata": {
    "tags": []
   },
   "outputs": [
    {
     "name": "stdout",
     "output_type": "stream",
     "text": [
      "684\n"
     ]
    }
   ],
   "source": [
    "print(i)"
   ]
  },
  {
   "cell_type": "code",
   "execution_count": 126,
   "id": "386d5211-9ada-44ac-b050-3da3697ccb3b",
   "metadata": {
    "tags": []
   },
   "outputs": [
    {
     "data": {
      "text/plain": [
       "691"
      ]
     },
     "execution_count": 126,
     "metadata": {},
     "output_type": "execute_result"
    }
   ],
   "source": [
    "df.shape[0]-(horizon)-(window)"
   ]
  },
  {
   "cell_type": "code",
   "execution_count": 127,
   "id": "bf5bbc59-a7e0-4c56-b047-76d834eb129c",
   "metadata": {
    "tags": []
   },
   "outputs": [],
   "source": [
    "response_labels_sample = []\n",
    "for j,i in enumerate(range(0,df.shape[0]-(horizon)-(window),stride)):\n",
    "    temp_df = df.iloc[i:window+1+i,:] # \n",
    "    # convert input to json\n",
    "    request_dict = dataframe_to_json(temp_df)\n",
    "    \n",
    "    # response = requests.post(model_url, data=json.dumps(request_dict), headers={'Content-Type': 'application/json'})\n",
    "    # #time.sleep(1)\n",
    "    \n",
    "    start_ts = pd.to_datetime(temp_df.time[:1].values[0]) + pd.Timedelta('1H')  # Start from the next timestamp, 1 hour later\n",
    "    future_ts = pd.date_range(start=start_ts, periods=horizon, freq='1H')  # Generate timestamps in 1-hour increments\n",
    "    \n",
    "    horizon_time = [time.isoformat() for time in future_ts]\n",
    "    \n",
    "    rx_rand = [random.randint(5, 10) for _ in range(6)]\n",
    "    tx_rand = [random.randint(5, 10) for _ in range(6)]\n",
    "\n",
    "    random_id = str(uuid.uuid4())\n",
    "    \n",
    "    new_item = {\n",
    "        \"uuid\": random_id,\n",
    "        \"rx_bytes_forecast\": rx_rand,\n",
    "        \"tx_bytes_forecast\": tx_rand,\n",
    "        \"horizon_time\": horizon_time,\n",
    "        \"timestamp_ms\": int(round(time.time() * 1000)),\n",
    "        \"rx_gbs_values\": None,\n",
    "        \"tx_gbs_values\": None\n",
    "    }\n",
    "    response_labels_sample.append(new_item)\n",
    "\n",
    "# Load Ground Truth phase\n",
    "    if (j + 1) % load_frequency == 0:\n",
    "        load_flag = True\n",
    "        offset = load_frequency\n",
    "    elif j == len(range(0, df.shape[0] - (horizon) - (window), stride)) - 1:\n",
    "        load_flag = True\n",
    "        offset = (j + 1) % load_frequency\n",
    "    else:\n",
    "        load_flag = False\n",
    "\n",
    "    if load_flag:\n",
    "        #print(f\"Iteration {j+1}: Checking load frequency condition\")\n",
    "        recent_items = response_labels_sample[-offset:]  # Get last offset elements\n",
    "        #print(f\"Recent items (last {load_frequency}): {recent_items}\")\n",
    "\n",
    "        for val in recent_items:\n",
    "            # Extract the horizon times for this entry\n",
    "            horizon_times = val['horizon_time']\n",
    "            #print(f\"UUID: {val['uuid']}, Horizon times: {horizon_times}\")\n",
    "\n",
    "            # Filter the DataFrame rows where the 'time' column matches any of the horizon times\n",
    "            filtered_horizon_times = [t.replace('T', ' ') for t in horizon_times]\n",
    "            matched_rows = df[df['time'].isin(filtered_horizon_times)]\n",
    "            #print(f\"Matched rows for horizon times {filtered_horizon_times}: {matched_rows}\")\n",
    "\n",
    "            # Extract 'rx_gbs' and 'tx_gbs' values for these rows\n",
    "            rx_gbs_values = matched_rows['rx_gbs'].tolist()\n",
    "            tx_gbs_values = matched_rows['tx_gbs'].tolist()\n",
    "\n",
    "            # Update the corresponding item in response_labels_sample\n",
    "            for item in response_labels_sample:\n",
    "                if item['uuid'] == val['uuid']:\n",
    "                    item['rx_gbs_values'] = rx_gbs_values\n",
    "                    item['tx_gbs_values'] = tx_gbs_values\n",
    "                    break  # Exit the loop once the matching item is found and updated\n",
    "        \n",
    "            \n",
    "#     if (j+1)% m_window == 0:\n",
    "#         m_recent_items = response_labels_sample[-m_window:]  # Get last m_window elements\n",
    "\n",
    "#         print('length of m recent items', len(m_recent_items))\n",
    "#         print('iteration',j)\n",
    "        \n",
    "#         start_timestamp_ms = m_recent_items[0][\"timestamp_ms\"]\n",
    "#         end_timestamp_ms = m_recent_items[-1][\"timestamp_ms\"]\n",
    "        \n",
    "#         # Aggregate all timestamps and predictions from recent items\n",
    "#         all_horizon_times = []\n",
    "#         all_rx_predictions = []\n",
    "#         all_tx_predictions = []\n",
    "\n",
    "#         for item in m_recent_items:\n",
    "#             all_horizon_times.extend(item['horizon_time'])\n",
    "#             all_rx_predictions.extend(item['rx_bytes_forecast'])\n",
    "#             all_tx_predictions.extend(item['tx_bytes_forecast'])\n",
    "            \n",
    "#         # Filter rows that match any of the collected timestamps\n",
    "#         filtered_all_horizon_times = [t.replace('T', ' ') for t in all_horizon_times]\n",
    "#         matched_rows = df[df['time'].isin(filtered_all_horizon_times)]\n",
    "        \n",
    "#         # Get actual 'rx_gbs' and 'tx_gbs' values\n",
    "#         actual_rx = matched_rows['rx_gbs'].values #.tolist()\n",
    "#         actual_tx = matched_rows['tx_gbs'].values #.tolist()\n",
    "        \n",
    "#         # convert predictions to np array\n",
    "#         all_rx_predictions = np.array(all_rx_predictions)\n",
    "#         all_tx_predictions = np.array(all_tx_predictions)\n",
    "        \n",
    "#         # simplified RMSE calc ' please update as required'\n",
    "#         rmse_rx = root_mean_squared_error(actual_rx,all_rx_predictions)\n",
    "#         rmse_tx = root_mean_squared_error(actual_tx,all_tx_predictions)\n",
    "\n",
    "#         rmse = (rmse_rx + rmse_tx)/2\n",
    "\n",
    "#         cdsw.track_aggregate_metrics(\n",
    "#                 {\"rmse\": rmse},\n",
    "#                 start_timestamp_ms,\n",
    "#                 end_timestamp_ms,\n",
    "#                 model_deployment_crn=cr_number,\n",
    "#             )"
   ]
  },
  {
   "cell_type": "code",
   "execution_count": 128,
   "id": "8ac82ca6-fe78-4888-a361-d7e3e5ebf17a",
   "metadata": {
    "tags": []
   },
   "outputs": [
    {
     "name": "stdout",
     "output_type": "stream",
     "text": [
      "57\n"
     ]
    }
   ],
   "source": [
    "# del(response_labels_sample)\n",
    "# del(response_df)\n",
    "print(j)"
   ]
  },
  {
   "cell_type": "code",
   "execution_count": 129,
   "id": "106f2b0b-38d3-4e7c-af46-3e5b930d84a4",
   "metadata": {
    "tags": []
   },
   "outputs": [],
   "source": [
    "response_df = pd.json_normalize(response_labels_sample)"
   ]
  },
  {
   "cell_type": "code",
   "execution_count": 130,
   "id": "10622f03-b063-4cf0-bf6b-4c2d263f4139",
   "metadata": {
    "tags": []
   },
   "outputs": [
    {
     "data": {
      "text/html": [
       "<div>\n",
       "<style scoped>\n",
       "    .dataframe tbody tr th:only-of-type {\n",
       "        vertical-align: middle;\n",
       "    }\n",
       "\n",
       "    .dataframe tbody tr th {\n",
       "        vertical-align: top;\n",
       "    }\n",
       "\n",
       "    .dataframe thead th {\n",
       "        text-align: right;\n",
       "    }\n",
       "</style>\n",
       "<table border=\"1\" class=\"dataframe\">\n",
       "  <thead>\n",
       "    <tr style=\"text-align: right;\">\n",
       "      <th></th>\n",
       "      <th>uuid</th>\n",
       "      <th>rx_bytes_forecast</th>\n",
       "      <th>tx_bytes_forecast</th>\n",
       "      <th>horizon_time</th>\n",
       "      <th>timestamp_ms</th>\n",
       "      <th>rx_gbs_values</th>\n",
       "      <th>tx_gbs_values</th>\n",
       "    </tr>\n",
       "  </thead>\n",
       "  <tbody>\n",
       "    <tr>\n",
       "      <th>53</th>\n",
       "      <td>5e31ee0b-f4ed-4838-8bd1-042f9d50227b</td>\n",
       "      <td>[6, 10, 9, 5, 9, 5]</td>\n",
       "      <td>[5, 8, 7, 9, 8, 6]</td>\n",
       "      <td>[2024-05-27T13:00:00, 2024-05-27T14:00:00, 202...</td>\n",
       "      <td>1716249392085</td>\n",
       "      <td>[0.616966009, 0.371091108, 11.169648003, 1.099...</td>\n",
       "      <td>[0.0, 1.965731814, 9.898407986, 2.954697861, 7...</td>\n",
       "    </tr>\n",
       "    <tr>\n",
       "      <th>54</th>\n",
       "      <td>0cd2f75c-30c3-48a2-9641-89bc1aa0b597</td>\n",
       "      <td>[7, 6, 5, 5, 6, 10]</td>\n",
       "      <td>[6, 5, 8, 6, 6, 8]</td>\n",
       "      <td>[2024-05-28T01:00:00, 2024-05-28T02:00:00, 202...</td>\n",
       "      <td>1716249392088</td>\n",
       "      <td>[7.513855262, 3.441458023, 0.741191405, 3.2789...</td>\n",
       "      <td>[6.478874172, 3.605046383, 1.710514911, 10.638...</td>\n",
       "    </tr>\n",
       "    <tr>\n",
       "      <th>55</th>\n",
       "      <td>50f91d05-da9d-4192-bbaa-e4e1a184ea0f</td>\n",
       "      <td>[10, 5, 8, 5, 10, 8]</td>\n",
       "      <td>[6, 6, 5, 8, 8, 9]</td>\n",
       "      <td>[2024-05-28T13:00:00, 2024-05-28T14:00:00, 202...</td>\n",
       "      <td>1716249392089</td>\n",
       "      <td>[4.359039237, 4.299071228, 2.362060309, 4.2183...</td>\n",
       "      <td>[11.316515315, 0.0, 11.161147976, 3.894878814,...</td>\n",
       "    </tr>\n",
       "    <tr>\n",
       "      <th>56</th>\n",
       "      <td>9fffeb68-ce62-490f-8f80-a4b6931d7cc9</td>\n",
       "      <td>[7, 6, 6, 8, 8, 7]</td>\n",
       "      <td>[9, 10, 10, 5, 10, 9]</td>\n",
       "      <td>[2024-05-29T01:00:00, 2024-05-29T02:00:00, 202...</td>\n",
       "      <td>1716249392091</td>\n",
       "      <td>[1.445444321, 25.41586434, 1.383489557, 2.1851...</td>\n",
       "      <td>[11.085551135, 0.0, 4.559966045, 2.033256693, ...</td>\n",
       "    </tr>\n",
       "    <tr>\n",
       "      <th>57</th>\n",
       "      <td>1e0fd61d-0036-41cf-9bb3-b4ec7bb3beda</td>\n",
       "      <td>[7, 10, 9, 9, 7, 6]</td>\n",
       "      <td>[8, 7, 7, 6, 9, 5]</td>\n",
       "      <td>[2024-05-29T13:00:00, 2024-05-29T14:00:00, 202...</td>\n",
       "      <td>1716249392092</td>\n",
       "      <td>[7.88396159, 3.540820261, 1.110646899, 1.40179...</td>\n",
       "      <td>[14.283415862, 0.833865873, 2.033834142, 5.780...</td>\n",
       "    </tr>\n",
       "  </tbody>\n",
       "</table>\n",
       "</div>"
      ],
      "text/plain": [
       "                                    uuid     rx_bytes_forecast  \\\n",
       "53  5e31ee0b-f4ed-4838-8bd1-042f9d50227b   [6, 10, 9, 5, 9, 5]   \n",
       "54  0cd2f75c-30c3-48a2-9641-89bc1aa0b597   [7, 6, 5, 5, 6, 10]   \n",
       "55  50f91d05-da9d-4192-bbaa-e4e1a184ea0f  [10, 5, 8, 5, 10, 8]   \n",
       "56  9fffeb68-ce62-490f-8f80-a4b6931d7cc9    [7, 6, 6, 8, 8, 7]   \n",
       "57  1e0fd61d-0036-41cf-9bb3-b4ec7bb3beda   [7, 10, 9, 9, 7, 6]   \n",
       "\n",
       "        tx_bytes_forecast                                       horizon_time  \\\n",
       "53     [5, 8, 7, 9, 8, 6]  [2024-05-27T13:00:00, 2024-05-27T14:00:00, 202...   \n",
       "54     [6, 5, 8, 6, 6, 8]  [2024-05-28T01:00:00, 2024-05-28T02:00:00, 202...   \n",
       "55     [6, 6, 5, 8, 8, 9]  [2024-05-28T13:00:00, 2024-05-28T14:00:00, 202...   \n",
       "56  [9, 10, 10, 5, 10, 9]  [2024-05-29T01:00:00, 2024-05-29T02:00:00, 202...   \n",
       "57     [8, 7, 7, 6, 9, 5]  [2024-05-29T13:00:00, 2024-05-29T14:00:00, 202...   \n",
       "\n",
       "     timestamp_ms                                      rx_gbs_values  \\\n",
       "53  1716249392085  [0.616966009, 0.371091108, 11.169648003, 1.099...   \n",
       "54  1716249392088  [7.513855262, 3.441458023, 0.741191405, 3.2789...   \n",
       "55  1716249392089  [4.359039237, 4.299071228, 2.362060309, 4.2183...   \n",
       "56  1716249392091  [1.445444321, 25.41586434, 1.383489557, 2.1851...   \n",
       "57  1716249392092  [7.88396159, 3.540820261, 1.110646899, 1.40179...   \n",
       "\n",
       "                                        tx_gbs_values  \n",
       "53  [0.0, 1.965731814, 9.898407986, 2.954697861, 7...  \n",
       "54  [6.478874172, 3.605046383, 1.710514911, 10.638...  \n",
       "55  [11.316515315, 0.0, 11.161147976, 3.894878814,...  \n",
       "56  [11.085551135, 0.0, 4.559966045, 2.033256693, ...  \n",
       "57  [14.283415862, 0.833865873, 2.033834142, 5.780...  "
      ]
     },
     "execution_count": 130,
     "metadata": {},
     "output_type": "execute_result"
    }
   ],
   "source": [
    "response_df.tail()"
   ]
  },
  {
   "cell_type": "code",
   "execution_count": 91,
   "id": "f5af23b0-8829-4181-8e97-91afd4a0d733",
   "metadata": {
    "tags": []
   },
   "outputs": [
    {
     "data": {
      "text/html": [
       "<div>\n",
       "<style scoped>\n",
       "    .dataframe tbody tr th:only-of-type {\n",
       "        vertical-align: middle;\n",
       "    }\n",
       "\n",
       "    .dataframe tbody tr th {\n",
       "        vertical-align: top;\n",
       "    }\n",
       "\n",
       "    .dataframe thead th {\n",
       "        text-align: right;\n",
       "    }\n",
       "</style>\n",
       "<table border=\"1\" class=\"dataframe\">\n",
       "  <thead>\n",
       "    <tr style=\"text-align: right;\">\n",
       "      <th></th>\n",
       "      <th>uuid</th>\n",
       "      <th>rx_bytes_forecast</th>\n",
       "      <th>tx_bytes_forecast</th>\n",
       "      <th>horizon_time</th>\n",
       "      <th>timestamp_ms</th>\n",
       "      <th>rx_gbs_values</th>\n",
       "      <th>tx_gbs_values</th>\n",
       "    </tr>\n",
       "  </thead>\n",
       "  <tbody>\n",
       "    <tr>\n",
       "      <th>690</th>\n",
       "      <td>e90f6363-f5eb-4fb8-8a4b-cc5c163bb87e</td>\n",
       "      <td>[9, 8, 8, 5, 5, 6]</td>\n",
       "      <td>[10, 6, 7, 8, 10, 6]</td>\n",
       "      <td>[2024-05-29T19:00:00, 2024-05-29T20:00:00, 202...</td>\n",
       "      <td>1716247716038</td>\n",
       "      <td>None</td>\n",
       "      <td>None</td>\n",
       "    </tr>\n",
       "  </tbody>\n",
       "</table>\n",
       "</div>"
      ],
      "text/plain": [
       "                                     uuid   rx_bytes_forecast  \\\n",
       "690  e90f6363-f5eb-4fb8-8a4b-cc5c163bb87e  [9, 8, 8, 5, 5, 6]   \n",
       "\n",
       "        tx_bytes_forecast                                       horizon_time  \\\n",
       "690  [10, 6, 7, 8, 10, 6]  [2024-05-29T19:00:00, 2024-05-29T20:00:00, 202...   \n",
       "\n",
       "      timestamp_ms rx_gbs_values tx_gbs_values  \n",
       "690  1716247716038          None          None  "
      ]
     },
     "execution_count": 91,
     "metadata": {},
     "output_type": "execute_result"
    }
   ],
   "source": [
    "response_df[response_df.isna().any(axis=1)]"
   ]
  },
  {
   "cell_type": "code",
   "execution_count": null,
   "id": "89286b1b-7c07-4c71-bcdf-4c44ed593ce1",
   "metadata": {},
   "outputs": [],
   "source": []
  }
 ],
 "metadata": {
  "kernelspec": {
   "display_name": "Python 3 (ipykernel)",
   "language": "python",
   "name": "python3"
  },
  "language_info": {
   "codemirror_mode": {
    "name": "ipython",
    "version": 3
   },
   "file_extension": ".py",
   "mimetype": "text/x-python",
   "name": "python",
   "nbconvert_exporter": "python",
   "pygments_lexer": "ipython3",
   "version": "3.10.13"
  }
 },
 "nbformat": 4,
 "nbformat_minor": 5
}
