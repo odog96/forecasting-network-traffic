{
 "cells": [
  {
   "cell_type": "code",
   "execution_count": 1,
   "id": "0e1bead9-eb56-48f7-93eb-2bcc092ff29f",
   "metadata": {
    "tags": []
   },
   "outputs": [],
   "source": [
    "import numpy as np\n",
    "import json, requests\n",
    "import pandas as pd\n",
    "import random\n",
    "import cmlapi\n",
    "import os"
   ]
  },
  {
   "cell_type": "markdown",
   "id": "7b064fa2-3410-4300-931a-e70368c539dd",
   "metadata": {},
   "source": [
    "### Overview\n",
    "\n",
    "the notebook will:\n",
    "1. take input format for python endpoint\n",
    "2. extract model url and model access key\n",
    "3. reading input data, will take a single sample of link/location combination \n",
    "4. then take a random sample of 25 contiguous rows\n",
    "5. Convert this into json format through 'dataframe_to_json' function\n",
    "6. Put all pieces together for json payload required by endpoint\n",
    "7. Send prediction request\n",
    "8. 'Unpack' response"
   ]
  },
  {
   "cell_type": "code",
   "execution_count": 2,
   "id": "da7084d6-3185-4833-8f0d-99ccd527ed78",
   "metadata": {
    "tags": []
   },
   "outputs": [],
   "source": [
    "window = 24"
   ]
  },
  {
   "cell_type": "code",
   "execution_count": 3,
   "id": "26b0efac-08f3-4129-8156-766577f6610f",
   "metadata": {
    "tags": []
   },
   "outputs": [],
   "source": [
    "def dataframe_to_json(df):\n",
    "    \"\"\"Create a dictionary that will later be converted to a JSON object\n",
    "    ensure that \n",
    "    \"\"\"\n",
    "    data = {\n",
    "        'rx_gbs': df['rx_gbs'].iloc[-(window+1):].tolist(),\n",
    "        'tx_gbs': df['tx_gbs'].iloc[-(window+1):].tolist(),\n",
    "        'time': [df['time'].iloc[-1]],  # Only the last time entry\n",
    "        'link': [df['link'].iloc[-1]],  # Only the last link entry\n",
    "        'location': [df['location'].iloc[-1]]  # Only the last location entry\n",
    "    }\n",
    "    \n",
    "    return data"
   ]
  },
  {
   "cell_type": "code",
   "execution_count": 4,
   "id": "c9d1328d-71b4-4f15-b8f1-ec1c7b3312db",
   "metadata": {
    "tags": []
   },
   "outputs": [],
   "source": [
    "df = pd.read_csv('data/netstats_hourly_4_3.csv')\n",
    "#df.head()"
   ]
  },
  {
   "cell_type": "code",
   "execution_count": 7,
   "id": "d6a9d9f2-0b9d-4c67-9481-8fa7ffa90d10",
   "metadata": {
    "tags": []
   },
   "outputs": [
    {
     "name": "stdin",
     "output_type": "stream",
     "text": [
      "Enter the name of the model:  LSTM-no-metrics\n"
     ]
    }
   ],
   "source": [
    "model_name = input(\"Enter the name of the model: \")"
   ]
  },
  {
   "cell_type": "code",
   "execution_count": 43,
   "id": "4bd4e477-7493-4918-8d91-82aa7a4f73bd",
   "metadata": {
    "tags": []
   },
   "outputs": [],
   "source": [
    "## Need to get the below prgramatically in the future iterations\n",
    "client = cmlapi.default_client(url=os.getenv(\"CDSW_API_URL\").replace(\"/api/v1\", \"\"), cml_api_key=os.getenv(\"CDSW_APIV2_KEY\"))\n",
    "target_model = client.list_all_models(search_filter=json.dumps({\"name\": model_name}))\n",
    "model_key = target_model.models[0].access_key\n",
    "\n",
    "## Save the access key for the model to the environment variable of this project\n",
    "\n",
    "# model_url = os.getenv(\"CDSW_API_URL\").replace(\"https://\", \"https://modelservice.\").replace(\"/api/v1\", \"/model?accessKey=\")\n",
    "# model_url = model_url + model_key\n",
    "model_url = os.getenv(\"CDSW_API_URL\").replace(\"https://\", \"https://modelservice.\").replace(\"/api/v1\", \"/model\")"
   ]
  },
  {
   "cell_type": "code",
   "execution_count": 44,
   "id": "a31c3ece-200f-4779-8774-851098528f77",
   "metadata": {
    "tags": []
   },
   "outputs": [
    {
     "data": {
      "text/plain": [
       "'https://modelservice.ml-cd558cf0-ec7.se-sandb.a465-9q4k.cloudera.site/model'"
      ]
     },
     "execution_count": 44,
     "metadata": {},
     "output_type": "execute_result"
    }
   ],
   "source": [
    "model_url"
   ]
  },
  {
   "cell_type": "code",
   "execution_count": 45,
   "id": "87422908-d88c-4d4b-88e0-f2ab1fee68ca",
   "metadata": {
    "tags": []
   },
   "outputs": [
    {
     "data": {
      "text/plain": [
       "'m5nezecapjhr5vhypkyfk7ow3p8kdanz'"
      ]
     },
     "execution_count": 45,
     "metadata": {},
     "output_type": "execute_result"
    }
   ],
   "source": [
    "model_key"
   ]
  },
  {
   "cell_type": "markdown",
   "id": "92b2902d-2fa4-4c61-81ba-8069ad90803f",
   "metadata": {},
   "source": [
    "Pick a random link / location"
   ]
  },
  {
   "cell_type": "code",
   "execution_count": 34,
   "id": "a9cd2acc-e5a0-4a42-bba8-89220b1a2d98",
   "metadata": {
    "tags": []
   },
   "outputs": [
    {
     "name": "stdout",
     "output_type": "stream",
     "text": [
      "     link location\n",
      "2188  ER1      AMS\n"
     ]
    }
   ],
   "source": [
    "sample_df = df[['link','location']].drop_duplicates().sample()\n",
    "link_pick = sample_df['link'].values[0]\n",
    "location_pick = sample_df['location'].values[0]\n",
    "print(sample_df)"
   ]
  },
  {
   "cell_type": "code",
   "execution_count": 35,
   "id": "bae15975-f94a-4be2-a562-c1057e8fb410",
   "metadata": {
    "tags": []
   },
   "outputs": [],
   "source": [
    "# test_df has only one combintation  of link_pick and location_pick\n",
    "test_df = df[(df.link == link_pick) & (df.location == location_pick)]"
   ]
  },
  {
   "cell_type": "code",
   "execution_count": 36,
   "id": "bf165dce-68b4-4d0e-a667-9dbc681113e2",
   "metadata": {
    "tags": []
   },
   "outputs": [],
   "source": [
    "# pick a random segment of size window + 1\n",
    "start_row = np.random.randint(0, len(test_df) - (window+1))\n",
    "random_segment = df.iloc[start_row:start_row + (window+1)]"
   ]
  },
  {
   "cell_type": "code",
   "execution_count": 37,
   "id": "5ce9c356-efb4-44ff-a409-ea49a404f074",
   "metadata": {
    "tags": []
   },
   "outputs": [
    {
     "data": {
      "text/plain": [
       "(25, 6)"
      ]
     },
     "execution_count": 37,
     "metadata": {},
     "output_type": "execute_result"
    }
   ],
   "source": [
    "# confirm size\n",
    "random_segment.shape"
   ]
  },
  {
   "cell_type": "code",
   "execution_count": 38,
   "id": "9acda015-f2bf-41e6-8c36-bce08273946b",
   "metadata": {
    "tags": []
   },
   "outputs": [],
   "source": [
    "# convert input to json\n",
    "test_inputs = dataframe_to_json(random_segment)"
   ]
  },
  {
   "cell_type": "code",
   "execution_count": 39,
   "id": "e6948681-9dd0-4168-b88c-8f1af9a0b2ad",
   "metadata": {
    "tags": []
   },
   "outputs": [],
   "source": [
    "# # registry specific parameters\n",
    "# model_url = 'https://modelservice.cml.apps.puncdsocpprd.os.net.ibm.com/model'\n",
    "# model_key = \"m0k1lk3c7aae8k16tniqtddopp77yz0l\""
   ]
  },
  {
   "cell_type": "markdown",
   "id": "d20c1a2c-680f-44c3-870c-4fa8ef9ce349",
   "metadata": {},
   "source": [
    "Step below puts it into required payload for endpoint"
   ]
  },
  {
   "cell_type": "code",
   "execution_count": 41,
   "id": "010f9cea-adf6-4318-9177-9a29cb5e7284",
   "metadata": {
    "tags": []
   },
   "outputs": [],
   "source": [
    "#r = requests.post(MODEL_ENDPOINT, data=json.dumps(test_inputs), headers={'Content-Type': 'application/json'})"
   ]
  },
  {
   "cell_type": "code",
   "execution_count": 42,
   "id": "5a695a2e-da7c-4d8f-9ad7-7e31462d2971",
   "metadata": {
    "tags": []
   },
   "outputs": [
    {
     "data": {
      "text/plain": [
       "{'success': False,\n",
       " 'ReplicaID': 'lstm-no-metrics-10-21-546d45d488-8bbhq',\n",
       " 'Size': 79,\n",
       " 'StatusCode': 400}"
      ]
     },
     "execution_count": 42,
     "metadata": {},
     "output_type": "execute_result"
    }
   ],
   "source": [
    "#r.json()"
   ]
  },
  {
   "cell_type": "code",
   "execution_count": 46,
   "id": "ff584a61-e82a-4526-ade0-5643e969f2de",
   "metadata": {
    "tags": []
   },
   "outputs": [],
   "source": [
    "# build embedded dictionary step 1\n",
    "request_dict = {\"request\":test_inputs}\n",
    "\n",
    "# access key will be end point specific\n",
    "BackDict = {\"accessKey\":model_key}\n",
    "BackDict.update(request_dict)\n",
    "request_dict=BackDict"
   ]
  },
  {
   "cell_type": "code",
   "execution_count": 47,
   "id": "bd85c189-482c-4a74-a195-ed1d789d3753",
   "metadata": {
    "tags": []
   },
   "outputs": [],
   "source": [
    "r = requests.post(model_url, data=json.dumps(request_dict), headers={'Content-Type': 'application/json'})"
   ]
  },
  {
   "cell_type": "code",
   "execution_count": 48,
   "id": "b3553c53-df1d-45c1-85e3-4b7f1291875d",
   "metadata": {
    "tags": []
   },
   "outputs": [
    {
     "data": {
      "text/plain": [
       "{'success': True,\n",
       " 'response': {'model_deployment_crn': 'crn:cdp:ml:us-west-1:558bc1d2-8867-4357-8524-311d51259233:workspace:af1ca1b6-2438-44e1-910f-e06f3320a279/0a76967a-59b2-4390-a481-f5998560b746',\n",
       "  'prediction': {'rx_bytes': [[9.300664901733398,\n",
       "     8.624772071838379,\n",
       "     7.315581321716309,\n",
       "     6.047887325286865,\n",
       "     5.334909439086914,\n",
       "     4.521298885345459]],\n",
       "   'time': ['2024-04-05T16:00:00',\n",
       "    '2024-04-05T17:00:00',\n",
       "    '2024-04-05T18:00:00',\n",
       "    '2024-04-05T19:00:00',\n",
       "    '2024-04-05T20:00:00',\n",
       "    '2024-04-05T21:00:00'],\n",
       "   'tx_bytes': [[0.4562716782093048,\n",
       "     -0.4851105213165283,\n",
       "     -1.0172359943389893,\n",
       "     -0.9375834465026855,\n",
       "     -0.73171466588974,\n",
       "     -1.0454868078231812]]},\n",
       "  'uuid': 'f4ef630a-54c3-4c75-9cab-a6cc951c303a'},\n",
       " 'ReplicaID': 'lstm-no-metrics-10-21-546d45d488-8bbhq',\n",
       " 'Size': 653,\n",
       " 'StatusCode': 200}"
      ]
     },
     "execution_count": 48,
     "metadata": {},
     "output_type": "execute_result"
    }
   ],
   "source": [
    "r.json()"
   ]
  },
  {
   "cell_type": "markdown",
   "id": "ddaac578-58fd-483c-99c0-e554ecafe59a",
   "metadata": {},
   "source": [
    "Get the model response"
   ]
  },
  {
   "cell_type": "code",
   "execution_count": 49,
   "id": "f2ebb956-8bf2-4cc1-888e-bd2a394cd7aa",
   "metadata": {
    "tags": []
   },
   "outputs": [
    {
     "data": {
      "text/plain": [
       "{'rx_bytes': [[9.300664901733398,\n",
       "   8.624772071838379,\n",
       "   7.315581321716309,\n",
       "   6.047887325286865,\n",
       "   5.334909439086914,\n",
       "   4.521298885345459]],\n",
       " 'time': ['2024-04-05T16:00:00',\n",
       "  '2024-04-05T17:00:00',\n",
       "  '2024-04-05T18:00:00',\n",
       "  '2024-04-05T19:00:00',\n",
       "  '2024-04-05T20:00:00',\n",
       "  '2024-04-05T21:00:00'],\n",
       " 'tx_bytes': [[0.4562716782093048,\n",
       "   -0.4851105213165283,\n",
       "   -1.0172359943389893,\n",
       "   -0.9375834465026855,\n",
       "   -0.73171466588974,\n",
       "   -1.0454868078231812]]}"
      ]
     },
     "execution_count": 49,
     "metadata": {},
     "output_type": "execute_result"
    }
   ],
   "source": [
    "r.json()['response']['prediction']"
   ]
  },
  {
   "cell_type": "code",
   "execution_count": null,
   "id": "4b470ca2-07e4-4603-9bb4-6bcddf05894b",
   "metadata": {},
   "outputs": [],
   "source": []
  }
 ],
 "metadata": {
  "kernelspec": {
   "display_name": "Python 3 (ipykernel)",
   "language": "python",
   "name": "python3"
  },
  "language_info": {
   "codemirror_mode": {
    "name": "ipython",
    "version": 3
   },
   "file_extension": ".py",
   "mimetype": "text/x-python",
   "name": "python",
   "nbconvert_exporter": "python",
   "pygments_lexer": "ipython3",
   "version": "3.10.13"
  }
 },
 "nbformat": 4,
 "nbformat_minor": 5
}
