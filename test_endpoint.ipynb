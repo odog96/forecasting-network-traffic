{
 "cells": [
  {
   "cell_type": "code",
   "execution_count": null,
   "id": "0e1bead9-eb56-48f7-93eb-2bcc092ff29f",
   "metadata": {
    "tags": []
   },
   "outputs": [],
   "source": [
    "import numpy as np\n",
    "import json, requests\n",
    "import pandas as pd\n",
    "import random\n",
    "import cmlapi\n",
    "import os"
   ]
  },
  {
   "cell_type": "markdown",
   "id": "7b064fa2-3410-4300-931a-e70368c539dd",
   "metadata": {},
   "source": [
    "### Overview\n",
    "\n",
    "the notebook will:\n",
    "1. take input format for python endpoint\n",
    "2. extract model url and model access key\n",
    "3. reading input data, will take a single sample of link/location combination \n",
    "4. then take a random sample of 25 contiguous rows\n",
    "5. Convert this into json format through 'dataframe_to_json' function\n",
    "6. Put all pieces together for json payload required by endpoint\n",
    "7. Send prediction request\n",
    "8. 'Unpack' response"
   ]
  },
  {
   "cell_type": "code",
   "execution_count": null,
   "id": "da7084d6-3185-4833-8f0d-99ccd527ed78",
   "metadata": {
    "tags": []
   },
   "outputs": [],
   "source": [
    "window = 24"
   ]
  },
  {
   "cell_type": "code",
   "execution_count": null,
   "id": "26b0efac-08f3-4129-8156-766577f6610f",
   "metadata": {
    "tags": []
   },
   "outputs": [],
   "source": [
    "def dataframe_to_json(df):\n",
    "    \"\"\"Create a dictionary that will later be converted to a JSON object\n",
    "    ensure that \n",
    "    \"\"\"\n",
    "    data = {\n",
    "        'rx_gbs': df['rx_gbs'].iloc[-(window+1):].tolist(),\n",
    "        'tx_gbs': df['tx_gbs'].iloc[-(window+1):].tolist(),\n",
    "        'time': [df['time'].iloc[-1]],  # Only the last time entry\n",
    "        'link': [df['link'].iloc[-1]],  # Only the last link entry\n",
    "        'location': [df['location'].iloc[-1]]  # Only the last location entry\n",
    "    }\n",
    "    \n",
    "    # build embedded dictionary step 1\n",
    "    request_dict = {\"request\":data}\n",
    "\n",
    "    # access key will be end point specific\n",
    "    BackDict = {\"accessKey\":model_key}\n",
    "    BackDict.update(request_dict)\n",
    "    request_dict=BackDict\n",
    "    \n",
    "    return request_dict"
   ]
  },
  {
   "cell_type": "code",
   "execution_count": null,
   "id": "c9d1328d-71b4-4f15-b8f1-ec1c7b3312db",
   "metadata": {
    "tags": []
   },
   "outputs": [],
   "source": [
    "df = pd.read_csv('data/netstats_hourly_4_3.csv')\n",
    "#df.head()"
   ]
  },
  {
   "cell_type": "code",
   "execution_count": null,
   "id": "d6a9d9f2-0b9d-4c67-9481-8fa7ffa90d10",
   "metadata": {
    "tags": []
   },
   "outputs": [],
   "source": [
    "model_name = input(\"Enter the name of the model: \")"
   ]
  },
  {
   "cell_type": "code",
   "execution_count": null,
   "id": "4bd4e477-7493-4918-8d91-82aa7a4f73bd",
   "metadata": {
    "tags": []
   },
   "outputs": [],
   "source": [
    "## Need to get the below prgramatically in the future iterations\n",
    "client = cmlapi.default_client(url=os.getenv(\"CDSW_API_URL\").replace(\"/api/v1\", \"\"), cml_api_key=os.getenv(\"CDSW_APIV2_KEY\"))\n",
    "target_model = client.list_all_models(search_filter=json.dumps({\"name\": model_name}))\n",
    "model_key = target_model.models[0].access_key\n",
    "model_url = os.getenv(\"CDSW_API_URL\").replace(\"https://\", \"https://modelservice.\").replace(\"/api/v1\", \"/model\")"
   ]
  },
  {
   "cell_type": "code",
   "execution_count": null,
   "id": "ea719b94-4725-4a94-850a-58d79fc94025",
   "metadata": {
    "tags": []
   },
   "outputs": [],
   "source": [
    "target_model.models[0].crn"
   ]
  },
  {
   "cell_type": "markdown",
   "id": "92b2902d-2fa4-4c61-81ba-8069ad90803f",
   "metadata": {},
   "source": [
    "Pick a random link / location"
   ]
  },
  {
   "cell_type": "code",
   "execution_count": null,
   "id": "a9cd2acc-e5a0-4a42-bba8-89220b1a2d98",
   "metadata": {
    "tags": []
   },
   "outputs": [],
   "source": [
    "sample_df = df[['link','location']].drop_duplicates().sample()\n",
    "link_pick = sample_df['link'].values[0]\n",
    "location_pick = sample_df['location'].values[0]\n",
    "print(sample_df)"
   ]
  },
  {
   "cell_type": "code",
   "execution_count": null,
   "id": "bae15975-f94a-4be2-a562-c1057e8fb410",
   "metadata": {
    "tags": []
   },
   "outputs": [],
   "source": [
    "# test_df has only one combintation  of link_pick and location_pick\n",
    "test_df = df[(df.link == link_pick) & (df.location == location_pick)]"
   ]
  },
  {
   "cell_type": "code",
   "execution_count": null,
   "id": "bf165dce-68b4-4d0e-a667-9dbc681113e2",
   "metadata": {
    "tags": []
   },
   "outputs": [],
   "source": [
    "# pick a random segment of size window + 1\n",
    "start_row = np.random.randint(0, len(test_df) - (window+1))\n",
    "random_segment = df.iloc[start_row:start_row + (window+1)]"
   ]
  },
  {
   "cell_type": "code",
   "execution_count": null,
   "id": "5ce9c356-efb4-44ff-a409-ea49a404f074",
   "metadata": {
    "tags": []
   },
   "outputs": [],
   "source": [
    "# confirm size\n",
    "random_segment.shape"
   ]
  },
  {
   "cell_type": "code",
   "execution_count": null,
   "id": "fcd265af-0e12-48db-b8d8-a890b4c84e24",
   "metadata": {
    "tags": []
   },
   "outputs": [],
   "source": [
    "random_segment.head()"
   ]
  },
  {
   "cell_type": "code",
   "execution_count": null,
   "id": "9acda015-f2bf-41e6-8c36-bce08273946b",
   "metadata": {
    "tags": []
   },
   "outputs": [],
   "source": [
    "# convert input to json\n",
    "request_dict = dataframe_to_json(random_segment)"
   ]
  },
  {
   "cell_type": "code",
   "execution_count": null,
   "id": "521cc63a-d764-415a-8f26-154883cd43e4",
   "metadata": {
    "tags": []
   },
   "outputs": [],
   "source": [
    "#test_inputs"
   ]
  },
  {
   "cell_type": "markdown",
   "id": "d20c1a2c-680f-44c3-870c-4fa8ef9ce349",
   "metadata": {},
   "source": [
    "Step below puts it into required payload for endpoint"
   ]
  },
  {
   "cell_type": "code",
   "execution_count": null,
   "id": "ff584a61-e82a-4526-ade0-5643e969f2de",
   "metadata": {
    "tags": []
   },
   "outputs": [],
   "source": [
    "# # build embedded dictionary step 1\n",
    "# request_dict = {\"request\":test_inputs}\n",
    "\n",
    "# # access key will be end point specific\n",
    "# BackDict = {\"accessKey\":model_key}\n",
    "# BackDict.update(request_dict)\n",
    "# request_dict=BackDict"
   ]
  },
  {
   "cell_type": "code",
   "execution_count": null,
   "id": "bd85c189-482c-4a74-a195-ed1d789d3753",
   "metadata": {
    "tags": []
   },
   "outputs": [],
   "source": [
    "r = requests.post(model_url, data=json.dumps(request_dict), headers={'Content-Type': 'application/json'})"
   ]
  },
  {
   "cell_type": "code",
   "execution_count": null,
   "id": "b3553c53-df1d-45c1-85e3-4b7f1291875d",
   "metadata": {
    "tags": []
   },
   "outputs": [],
   "source": [
    "r.json()"
   ]
  },
  {
   "cell_type": "markdown",
   "id": "ddaac578-58fd-483c-99c0-e554ecafe59a",
   "metadata": {},
   "source": [
    "Get the model response"
   ]
  },
  {
   "cell_type": "code",
   "execution_count": null,
   "id": "f2ebb956-8bf2-4cc1-888e-bd2a394cd7aa",
   "metadata": {
    "tags": []
   },
   "outputs": [],
   "source": [
    "r.json()['response']['prediction']['time']"
   ]
  },
  {
   "cell_type": "code",
   "execution_count": null,
   "id": "9ebb9c96-aab9-47c2-bf14-357d5478223e",
   "metadata": {
    "tags": []
   },
   "outputs": [],
   "source": [
    "r.json()['response']['prediction']['rx_bytes']"
   ]
  },
  {
   "cell_type": "code",
   "execution_count": null,
   "id": "6b8433b4-c692-4638-a7a5-ebf7db0a3984",
   "metadata": {
    "tags": []
   },
   "outputs": [],
   "source": [
    "r.json()['response']['prediction']['tx_bytes']"
   ]
  },
  {
   "cell_type": "code",
   "execution_count": null,
   "id": "4b470ca2-07e4-4603-9bb4-6bcddf05894b",
   "metadata": {
    "tags": []
   },
   "outputs": [],
   "source": [
    "r.json()['response']['uuid']"
   ]
  },
  {
   "cell_type": "code",
   "execution_count": null,
   "id": "eb4daece-842a-4447-aa19-a8907f62edc2",
   "metadata": {
    "tags": []
   },
   "outputs": [],
   "source": [
    "type(rx_response)"
   ]
  },
  {
   "cell_type": "code",
   "execution_count": null,
   "id": "ae6f3ffa-5334-4930-b236-9009333e2633",
   "metadata": {
    "tags": []
   },
   "outputs": [],
   "source": [
    "type(rx_response[0])"
   ]
  },
  {
   "cell_type": "code",
   "execution_count": null,
   "id": "05c492db-e505-4405-81a9-72967a2803cb",
   "metadata": {},
   "outputs": [],
   "source": []
  }
 ],
 "metadata": {
  "kernelspec": {
   "display_name": "Python 3 (ipykernel)",
   "language": "python",
   "name": "python3"
  },
  "language_info": {
   "codemirror_mode": {
    "name": "ipython",
    "version": 3
   },
   "file_extension": ".py",
   "mimetype": "text/x-python",
   "name": "python",
   "nbconvert_exporter": "python",
   "pygments_lexer": "ipython3",
   "version": "3.10.13"
  }
 },
 "nbformat": 4,
 "nbformat_minor": 5
}
